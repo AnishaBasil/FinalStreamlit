{
  "nbformat": 4,
  "nbformat_minor": 0,
  "metadata": {
    "colab": {
      "name": "Deployment of E2E Data Process with Streamlit .ipynb",
      "provenance": [],
      "authorship_tag": "ABX9TyN3BU7QO3mzBMy9JnDFf0ef",
      "include_colab_link": true
    },
    "kernelspec": {
      "name": "python3",
      "display_name": "Python 3"
    },
    "language_info": {
      "name": "python"
    }
  },
  "cells": [
    {
      "cell_type": "markdown",
      "metadata": {
        "id": "view-in-github",
        "colab_type": "text"
      },
      "source": [
        "<a href=\"https://colab.research.google.com/github/AnishaBasil/FinalStreamlit/blob/main/Deployment_of_E2E_Data_Process_with_Streamlit_.ipynb\" target=\"_parent\"><img src=\"https://colab.research.google.com/assets/colab-badge.svg\" alt=\"Open In Colab\"/></a>"
      ]
    },
    {
      "cell_type": "markdown",
      "source": [
        "**1. Upload packages**"
      ],
      "metadata": {
        "id": "g3LeQjOysJlH"
      }
    },
    {
      "cell_type": "code",
      "execution_count": null,
      "metadata": {
        "id": "1hs1HCYlbwSp"
      },
      "outputs": [],
      "source": [
        "import pandas as pd \n",
        "!pip install sweetviz \n",
        "import sweetviz \n",
        "import sweetviz as sv\n",
        "!pip install pandas_profiling"
      ]
    },
    {
      "cell_type": "code",
      "source": [
        "import matplotlib.pyplot as plt\n",
        "import seaborn as sns"
      ],
      "metadata": {
        "id": "fgwLwMm4A25U"
      },
      "execution_count": null,
      "outputs": []
    },
    {
      "cell_type": "markdown",
      "source": [
        "\n",
        "\n",
        "---\n",
        "\n"
      ],
      "metadata": {
        "id": "-TIZmZZb2a8_"
      }
    },
    {
      "cell_type": "markdown",
      "source": [
        "**2. Upload csv files**"
      ],
      "metadata": {
        "id": "g3LkwjuFtJZZ"
      }
    },
    {
      "cell_type": "code",
      "source": [
        "hospitaldf = pd.read_csv('https://raw.githubusercontent.com/hantswilliams/AHI_DataSci_507/main/Deployment_Streamlit/hospital_info.csv')\n",
        "hospitaldf"
      ],
      "metadata": {
        "id": "-7ng6-rLnXc5"
      },
      "execution_count": null,
      "outputs": []
    },
    {
      "cell_type": "code",
      "source": [
        "outpatientdf = pd.read_csv('https://raw.githubusercontent.com/hantswilliams/AHI_DataSci_507/main/Deployment_Streamlit/outpatient_2015.csv')\n",
        "outpatientdf"
      ],
      "metadata": {
        "id": "YWuRVdfant3g"
      },
      "execution_count": null,
      "outputs": []
    },
    {
      "cell_type": "code",
      "source": [
        "inpatientdf = pd.read_csv('https://raw.githubusercontent.com/hantswilliams/AHI_DataSci_507/main/Deployment_Streamlit/inpatient_2015.csv')\n",
        "inpatientdf"
      ],
      "metadata": {
        "id": "5DfXpNOonvzv"
      },
      "execution_count": null,
      "outputs": []
    },
    {
      "cell_type": "markdown",
      "source": [
        "\n",
        "\n",
        "---\n",
        "\n"
      ],
      "metadata": {
        "id": "tuW71Vms2aBp"
      }
    },
    {
      "cell_type": "markdown",
      "source": [
        "**3. lengths for primary dataframes**"
      ],
      "metadata": {
        "id": "7P8mRr9enzry"
      }
    },
    {
      "cell_type": "code",
      "source": [
        "print ('hospital_info:' , len(hospitaldf))\n",
        "print ('outpatient_info:' , len(outpatientdf))\n",
        "print ('inpatient_info:' , len(inpatientdf))"
      ],
      "metadata": {
        "colab": {
          "base_uri": "https://localhost:8080/"
        },
        "id": "YDHSQJ-inz45",
        "outputId": "5c60f949-0086-40de-80b5-57670828033d"
      },
      "execution_count": null,
      "outputs": [
        {
          "output_type": "stream",
          "name": "stdout",
          "text": [
            "hospital_info: 5314\n",
            "outpatient_info: 32532\n",
            "inpatient_info: 201876\n"
          ]
        }
      ]
    },
    {
      "cell_type": "markdown",
      "source": [
        "\n",
        "\n",
        "---\n",
        "\n"
      ],
      "metadata": {
        "id": "NvH5poM72ZXs"
      }
    },
    {
      "cell_type": "markdown",
      "source": [
        "**4. List rows of all datasets**"
      ],
      "metadata": {
        "id": "jCQwUaZltZfC"
      }
    },
    {
      "cell_type": "code",
      "source": [
        "list (hospitaldf)"
      ],
      "metadata": {
        "id": "ig-ONO-in8yr"
      },
      "execution_count": null,
      "outputs": []
    },
    {
      "cell_type": "code",
      "source": [
        "list (outpatientdf)"
      ],
      "metadata": {
        "id": "6JEXcvaYn9uk"
      },
      "execution_count": null,
      "outputs": []
    },
    {
      "cell_type": "code",
      "source": [
        "list (inpatientdf)"
      ],
      "metadata": {
        "id": "nkIL6XdZoEoy"
      },
      "execution_count": null,
      "outputs": []
    },
    {
      "cell_type": "markdown",
      "source": [
        "\n",
        "\n",
        "---\n",
        "\n"
      ],
      "metadata": {
        "id": "64EWvDUP2Yqp"
      }
    },
    {
      "cell_type": "markdown",
      "source": [
        "**5. Clean data**\n",
        "\n"
      ],
      "metadata": {
        "id": "yn5LjuRQt178"
      }
    },
    {
      "cell_type": "code",
      "source": [
        "outpatientdf2 = outpatientdf.dropna()\n",
        "outpatientdf2.sample(25)"
      ],
      "metadata": {
        "id": "n0XcP-qfoHls"
      },
      "execution_count": null,
      "outputs": []
    },
    {
      "cell_type": "code",
      "source": [
        "inpatientdf2 = inpatientdf.dropna()\n",
        "inpatientdf2.sample(25)"
      ],
      "metadata": {
        "id": "AQRUV0m2vMIs"
      },
      "execution_count": null,
      "outputs": []
    },
    {
      "cell_type": "markdown",
      "source": [
        "\n",
        "\n",
        "---\n",
        "\n"
      ],
      "metadata": {
        "id": "pkkvKMQp2Xoc"
      }
    },
    {
      "cell_type": "markdown",
      "source": [
        "**6. Removing and confirming null values in hospital dataset**"
      ],
      "metadata": {
        "id": "EMIYrBXTwJB2"
      }
    },
    {
      "cell_type": "code",
      "source": [
        "list(hospitaldf)"
      ],
      "metadata": {
        "id": "GIFGpF37vNi3"
      },
      "execution_count": null,
      "outputs": []
    },
    {
      "cell_type": "code",
      "source": [
        "newhospitaldf1 = hospitaldf[hospitaldf['safety_of_care_national_comparison'].notna()] \n",
        "newhospitaldf1['safety_of_care_national_comparison'].isna().sum()"
      ],
      "metadata": {
        "colab": {
          "base_uri": "https://localhost:8080/"
        },
        "id": "qqSKbXWbvaW3",
        "outputId": "1ebf9dff-45cb-463a-dd37-0963b78be008"
      },
      "execution_count": null,
      "outputs": [
        {
          "output_type": "execute_result",
          "data": {
            "text/plain": [
              "0"
            ]
          },
          "metadata": {},
          "execution_count": 34
        }
      ]
    },
    {
      "cell_type": "code",
      "source": [
        "newhospitaldf2 = hospitaldf[hospitaldf['readmission_national_comparison'].notna()]\n",
        "newhospitaldf2['readmission_national_comparison'].isna().sum()"
      ],
      "metadata": {
        "colab": {
          "base_uri": "https://localhost:8080/"
        },
        "id": "1JWMY616vpgt",
        "outputId": "34e10783-dc7c-43ab-d696-ea9322fe55e4"
      },
      "execution_count": null,
      "outputs": [
        {
          "output_type": "execute_result",
          "data": {
            "text/plain": [
              "0"
            ]
          },
          "metadata": {},
          "execution_count": 35
        }
      ]
    },
    {
      "cell_type": "code",
      "source": [
        "newhospitaldf3 = hospitaldf[hospitaldf['effectiveness_of_care_national_comparison'].notna()] \n",
        "newhospitaldf3['effectiveness_of_care_national_comparison'].isna().sum()"
      ],
      "metadata": {
        "colab": {
          "base_uri": "https://localhost:8080/"
        },
        "id": "KocQMY3evr_U",
        "outputId": "25f80840-f77c-47a8-89a4-c6534675dcf9"
      },
      "execution_count": null,
      "outputs": [
        {
          "output_type": "execute_result",
          "data": {
            "text/plain": [
              "0"
            ]
          },
          "metadata": {},
          "execution_count": 36
        }
      ]
    },
    {
      "cell_type": "code",
      "source": [
        "newhospitaldf4 = hospitaldf[hospitaldf['mortality_national_comparison'].notna()] \n",
        "newhospitaldf4['mortality_national_comparison'].isna().sum()"
      ],
      "metadata": {
        "colab": {
          "base_uri": "https://localhost:8080/"
        },
        "id": "SgF8aoJRv7h4",
        "outputId": "d9fdedf9-67c6-4f22-9c9b-d063fa2039bd"
      },
      "execution_count": null,
      "outputs": [
        {
          "output_type": "execute_result",
          "data": {
            "text/plain": [
              "0"
            ]
          },
          "metadata": {},
          "execution_count": 37
        }
      ]
    },
    {
      "cell_type": "markdown",
      "source": [
        "\n",
        "\n",
        "---\n",
        "\n"
      ],
      "metadata": {
        "id": "wWNabLvD2WoZ"
      }
    },
    {
      "cell_type": "markdown",
      "source": [
        "**7. Combine dataframes**\n",
        "\n",
        "*(concat function for the same columns)*"
      ],
      "metadata": {
        "id": "9p6XlcnIwk_D"
      }
    },
    {
      "cell_type": "code",
      "source": [
        "hospital_merged1 = pd.concat([newhospitaldf1,newhospitaldf2])\n",
        "hospital_merged1.sample(25)"
      ],
      "metadata": {
        "id": "E7lzzfCbw12C"
      },
      "execution_count": null,
      "outputs": []
    },
    {
      "cell_type": "code",
      "source": [
        "hospital_merged2 = pd.concat([newhospitaldf3,newhospitaldf4])\n",
        "hospital_merged2.sample(25)"
      ],
      "metadata": {
        "id": "WiGwzPocxPlv"
      },
      "execution_count": null,
      "outputs": []
    },
    {
      "cell_type": "code",
      "source": [
        "hospital_final3 = pd.concat([hospital_merged1,hospital_merged2])\n",
        "hospital_final3.sample(25)"
      ],
      "metadata": {
        "id": "EtohzerSyC0U"
      },
      "execution_count": null,
      "outputs": []
    },
    {
      "cell_type": "markdown",
      "source": [
        "\n",
        "\n",
        "---\n",
        "\n"
      ],
      "metadata": {
        "id": "5CNyGaJf2Vrf"
      }
    },
    {
      "cell_type": "markdown",
      "source": [
        "**8. Prepare for merge** \n",
        "\n",
        "*(change 'provider_id' to a string for all datasets)*"
      ],
      "metadata": {
        "id": "-R6kfrKmyT3_"
      }
    },
    {
      "cell_type": "code",
      "source": [
        "inpatientdf2['provider_id'] = inpatientdf['provider_id'].astype(str)\n",
        "hospital_final3['provider_id'] = hospitaldf['provider_id'].astype(str)\n",
        "outpatientdf2['provider_id'] = outpatientdf['provider_id'].astype(str)"
      ],
      "metadata": {
        "id": "IQdEMmjbyWZk"
      },
      "execution_count": null,
      "outputs": []
    },
    {
      "cell_type": "markdown",
      "source": [
        "\n",
        "\n",
        "---\n",
        "\n"
      ],
      "metadata": {
        "id": "zCSkE-jo2U-W"
      }
    },
    {
      "cell_type": "markdown",
      "source": [
        "**9. Merge new hospital dataframe to  outpatient dataframe**\n",
        "\n",
        "*(merge function for different columns)*\n"
      ],
      "metadata": {
        "id": "xzbVqpshy91t"
      }
    },
    {
      "cell_type": "code",
      "source": [
        "outpatient_hospital = outpatientdf2.merge(hospital_final3, how = 'left', left_on='provider_id', right_on='provider_id')\n",
        "outpatient_hospital.sample(25)"
      ],
      "metadata": {
        "id": "0R-21parzny7"
      },
      "execution_count": null,
      "outputs": []
    },
    {
      "cell_type": "code",
      "source": [
        "inpatient_hospital = outpatientdf2.merge(hospital_final3, how = 'left', left_on='provider_id', right_on='provider_id')\n",
        "inpatient_hospital.sample(25)"
      ],
      "metadata": {
        "id": "xZx1ZJP2z_k4"
      },
      "execution_count": null,
      "outputs": []
    },
    {
      "cell_type": "markdown",
      "source": [
        "\n",
        "\n",
        "---\n",
        "\n"
      ],
      "metadata": {
        "id": "h1BLetwQ2T4T"
      }
    },
    {
      "cell_type": "markdown",
      "source": [
        "**10. Stonybrook Analysis**"
      ],
      "metadata": {
        "id": "VawxBtMh0JbZ"
      }
    },
    {
      "cell_type": "code",
      "source": [
        "SBUinfo = hospitaldf[hospitaldf['hospital_name'] == 'SUNY/STONY BROOK UNIVERSITY HOSPITAL']\n",
        "SBUinfo"
      ],
      "metadata": {
        "id": "AbsLMKVg0Mie"
      },
      "execution_count": null,
      "outputs": []
    },
    {
      "cell_type": "markdown",
      "source": [
        "- ###### provider_id = 330393\n",
        "- ###### hospital_type = Acute Care \n",
        "- ###### hospital_ownership = Government - state\n",
        "- ###### emergency_services = yes\n",
        "- ###### hospital_overall_rating = 4\n",
        "- ###### mortality_national_comparison = above national average\n",
        "- ###### safety_of_care_national_comparison = above national average\n",
        "- ###### readmission_national_comparison = below national average\n",
        "- ###### patient_experience_national_comparison = below national average\n",
        "- ###### effectiveness_of_care_national_comparison = same as national average\n",
        "- ###### timeliness_of_care_national_comparison = below national average\n",
        "- ###### efficient_use_of_medical_imaging_national_comparison = same as national average"
      ],
      "metadata": {
        "id": "IKwxzbYf0jo4"
      }
    },
    {
      "cell_type": "code",
      "source": [
        "sb_inpatient = inpatientdf[inpatientdf['provider_id'] == 500019]\n",
        "sb_inpatient"
      ],
      "metadata": {
        "id": "EVJmoV6r1Z5f"
      },
      "execution_count": null,
      "outputs": []
    },
    {
      "cell_type": "code",
      "source": [
        "NY_info = hospitaldf[hospitaldf['state'] == 'NY']\n",
        "NY_info.sample(7)"
      ],
      "metadata": {
        "colab": {
          "base_uri": "https://localhost:8080/",
          "height": 636
        },
        "id": "VW8uWW5a1ywB",
        "outputId": "a7c87bdb-2f27-43e5-f28a-056f5b8e00e4"
      },
      "execution_count": null,
      "outputs": [
        {
          "output_type": "execute_result",
          "data": {
            "text/html": [
              "<div>\n",
              "<style scoped>\n",
              "    .dataframe tbody tr th:only-of-type {\n",
              "        vertical-align: middle;\n",
              "    }\n",
              "\n",
              "    .dataframe tbody tr th {\n",
              "        vertical-align: top;\n",
              "    }\n",
              "\n",
              "    .dataframe thead th {\n",
              "        text-align: right;\n",
              "    }\n",
              "</style>\n",
              "<table border=\"1\" class=\"dataframe\">\n",
              "  <thead>\n",
              "    <tr style=\"text-align: right;\">\n",
              "      <th></th>\n",
              "      <th>provider_id</th>\n",
              "      <th>hospital_name</th>\n",
              "      <th>address</th>\n",
              "      <th>city</th>\n",
              "      <th>state</th>\n",
              "      <th>zip_code</th>\n",
              "      <th>county_name</th>\n",
              "      <th>phone_number</th>\n",
              "      <th>hospital_type</th>\n",
              "      <th>hospital_ownership</th>\n",
              "      <th>emergency_services</th>\n",
              "      <th>meets_criteria_for_meaningful_use_of_ehrs</th>\n",
              "      <th>hospital_overall_rating</th>\n",
              "      <th>hospital_overall_rating_footnote</th>\n",
              "      <th>mortality_national_comparison</th>\n",
              "      <th>mortality_national_comparison_footnote</th>\n",
              "      <th>safety_of_care_national_comparison</th>\n",
              "      <th>safety_of_care_national_comparison_footnote</th>\n",
              "      <th>readmission_national_comparison</th>\n",
              "      <th>readmission_national_comparison_footnote</th>\n",
              "      <th>patient_experience_national_comparison</th>\n",
              "      <th>patient_experience_national_comparison_footnote</th>\n",
              "      <th>effectiveness_of_care_national_comparison</th>\n",
              "      <th>effectiveness_of_care_national_comparison_footnote</th>\n",
              "      <th>timeliness_of_care_national_comparison</th>\n",
              "      <th>timeliness_of_care_national_comparison_footnote</th>\n",
              "      <th>efficient_use_of_medical_imaging_national_comparison</th>\n",
              "      <th>efficient_use_of_medical_imaging_national_comparison_footnote</th>\n",
              "      <th>location</th>\n",
              "    </tr>\n",
              "  </thead>\n",
              "  <tbody>\n",
              "    <tr>\n",
              "      <th>123</th>\n",
              "      <td>330201</td>\n",
              "      <td>KINGSBROOK JEWISH MEDICAL CENTER</td>\n",
              "      <td>585 SCHENECTADY AVENUE</td>\n",
              "      <td>BROOKLYN</td>\n",
              "      <td>NY</td>\n",
              "      <td>11203</td>\n",
              "      <td>KINGS</td>\n",
              "      <td>(718) 604-5789</td>\n",
              "      <td>Acute Care Hospitals</td>\n",
              "      <td>Voluntary non-profit - Private</td>\n",
              "      <td>True</td>\n",
              "      <td>NaN</td>\n",
              "      <td>1</td>\n",
              "      <td>23.0</td>\n",
              "      <td>Same as the national average</td>\n",
              "      <td>23.0</td>\n",
              "      <td>Below the national average</td>\n",
              "      <td>NaN</td>\n",
              "      <td>Below the national average</td>\n",
              "      <td>23.0</td>\n",
              "      <td>Below the national average</td>\n",
              "      <td>NaN</td>\n",
              "      <td>Same as the national average</td>\n",
              "      <td>NaN</td>\n",
              "      <td>Below the national average</td>\n",
              "      <td>NaN</td>\n",
              "      <td>Not Available</td>\n",
              "      <td>5.0</td>\n",
              "      <td>POINT (-73.934072 40.65892900000001)</td>\n",
              "    </tr>\n",
              "    <tr>\n",
              "      <th>1463</th>\n",
              "      <td>330246</td>\n",
              "      <td>ST CHARLES HOSPITAL</td>\n",
              "      <td>200 BELLE TERRE ROAD</td>\n",
              "      <td>PORT JEFFERSON</td>\n",
              "      <td>NY</td>\n",
              "      <td>11777</td>\n",
              "      <td>SUFFOLK</td>\n",
              "      <td>(631) 474-6000</td>\n",
              "      <td>Acute Care Hospitals</td>\n",
              "      <td>Voluntary non-profit - Private</td>\n",
              "      <td>True</td>\n",
              "      <td>True</td>\n",
              "      <td>3</td>\n",
              "      <td>NaN</td>\n",
              "      <td>Same as the national average</td>\n",
              "      <td>NaN</td>\n",
              "      <td>Below the national average</td>\n",
              "      <td>NaN</td>\n",
              "      <td>Below the national average</td>\n",
              "      <td>NaN</td>\n",
              "      <td>Same as the national average</td>\n",
              "      <td>NaN</td>\n",
              "      <td>Same as the national average</td>\n",
              "      <td>NaN</td>\n",
              "      <td>Below the national average</td>\n",
              "      <td>NaN</td>\n",
              "      <td>Same as the national average</td>\n",
              "      <td>NaN</td>\n",
              "      <td>POINT (-73.05983200000001 40.947392)</td>\n",
              "    </tr>\n",
              "    <tr>\n",
              "      <th>133</th>\n",
              "      <td>330013</td>\n",
              "      <td>ALBANY MEDICAL CENTER HOSPITAL</td>\n",
              "      <td>43 NEW SCOTLAND AVENUE, MAIL CODE 34</td>\n",
              "      <td>ALBANY</td>\n",
              "      <td>NY</td>\n",
              "      <td>12208</td>\n",
              "      <td>ALBANY</td>\n",
              "      <td>(518) 262-2400</td>\n",
              "      <td>Acute Care Hospitals</td>\n",
              "      <td>Voluntary non-profit - Private</td>\n",
              "      <td>True</td>\n",
              "      <td>True</td>\n",
              "      <td>1</td>\n",
              "      <td>NaN</td>\n",
              "      <td>Same as the national average</td>\n",
              "      <td>NaN</td>\n",
              "      <td>Above the national average</td>\n",
              "      <td>NaN</td>\n",
              "      <td>Below the national average</td>\n",
              "      <td>NaN</td>\n",
              "      <td>Below the national average</td>\n",
              "      <td>NaN</td>\n",
              "      <td>Below the national average</td>\n",
              "      <td>NaN</td>\n",
              "      <td>Below the national average</td>\n",
              "      <td>NaN</td>\n",
              "      <td>Same as the national average</td>\n",
              "      <td>NaN</td>\n",
              "      <td>POINT (-73.77386 42.653254)</td>\n",
              "    </tr>\n",
              "    <tr>\n",
              "      <th>992</th>\n",
              "      <td>330267</td>\n",
              "      <td>HUDSON VALLEY HOSPITAL CENTER</td>\n",
              "      <td>1980 CROMPOND ROAD</td>\n",
              "      <td>CORTLANDT MANOR</td>\n",
              "      <td>NY</td>\n",
              "      <td>10567</td>\n",
              "      <td>WESTCHESTER</td>\n",
              "      <td>(914) 734-3611</td>\n",
              "      <td>Acute Care Hospitals</td>\n",
              "      <td>Voluntary non-profit - Private</td>\n",
              "      <td>True</td>\n",
              "      <td>True</td>\n",
              "      <td>3</td>\n",
              "      <td>NaN</td>\n",
              "      <td>Same as the national average</td>\n",
              "      <td>NaN</td>\n",
              "      <td>Above the national average</td>\n",
              "      <td>NaN</td>\n",
              "      <td>Below the national average</td>\n",
              "      <td>NaN</td>\n",
              "      <td>Above the national average</td>\n",
              "      <td>NaN</td>\n",
              "      <td>Same as the national average</td>\n",
              "      <td>NaN</td>\n",
              "      <td>Below the national average</td>\n",
              "      <td>NaN</td>\n",
              "      <td>Same as the national average</td>\n",
              "      <td>NaN</td>\n",
              "      <td>POINT (-73.893601 41.291457)</td>\n",
              "    </tr>\n",
              "    <tr>\n",
              "      <th>2923</th>\n",
              "      <td>330144</td>\n",
              "      <td>IRA DAVENPORT MEMORIAL HOSPITAL</td>\n",
              "      <td>7571 STATE ROUTE 54</td>\n",
              "      <td>BATH</td>\n",
              "      <td>NY</td>\n",
              "      <td>14810</td>\n",
              "      <td>STEUBEN</td>\n",
              "      <td>(607) 776-8500</td>\n",
              "      <td>Acute Care Hospitals</td>\n",
              "      <td>Voluntary non-profit - Other</td>\n",
              "      <td>True</td>\n",
              "      <td>NaN</td>\n",
              "      <td>4</td>\n",
              "      <td>NaN</td>\n",
              "      <td>Not Available</td>\n",
              "      <td>5.0</td>\n",
              "      <td>Not Available</td>\n",
              "      <td>5.0</td>\n",
              "      <td>Same as the national average</td>\n",
              "      <td>NaN</td>\n",
              "      <td>Not Available</td>\n",
              "      <td>16.0</td>\n",
              "      <td>Same as the national average</td>\n",
              "      <td>NaN</td>\n",
              "      <td>Same as the national average</td>\n",
              "      <td>NaN</td>\n",
              "      <td>Not Available</td>\n",
              "      <td>5.0</td>\n",
              "      <td>POINT (-77.278553 42.37297)</td>\n",
              "    </tr>\n",
              "    <tr>\n",
              "      <th>1547</th>\n",
              "      <td>330229</td>\n",
              "      <td>BROOKS-TLC HOSPITAL SYSTEM, INC</td>\n",
              "      <td>529 CENTRAL AVENUE</td>\n",
              "      <td>DUNKIRK</td>\n",
              "      <td>NY</td>\n",
              "      <td>14048</td>\n",
              "      <td>CHAUTAUQUA</td>\n",
              "      <td>(716) 366-1111</td>\n",
              "      <td>Acute Care Hospitals</td>\n",
              "      <td>Voluntary non-profit - Private</td>\n",
              "      <td>True</td>\n",
              "      <td>True</td>\n",
              "      <td>3</td>\n",
              "      <td>NaN</td>\n",
              "      <td>Same as the national average</td>\n",
              "      <td>NaN</td>\n",
              "      <td>Above the national average</td>\n",
              "      <td>NaN</td>\n",
              "      <td>Above the national average</td>\n",
              "      <td>NaN</td>\n",
              "      <td>Below the national average</td>\n",
              "      <td>NaN</td>\n",
              "      <td>Same as the national average</td>\n",
              "      <td>NaN</td>\n",
              "      <td>Same as the national average</td>\n",
              "      <td>NaN</td>\n",
              "      <td>Not Available</td>\n",
              "      <td>5.0</td>\n",
              "      <td>POINT (-79.333617 42.480106000000006)</td>\n",
              "    </tr>\n",
              "    <tr>\n",
              "      <th>2012</th>\n",
              "      <td>331314</td>\n",
              "      <td>SOLDIERS AND SAILORS MEMORIAL HOSPITAL OF YATES</td>\n",
              "      <td>418 NORTH MAIN STREET</td>\n",
              "      <td>PENN YAN</td>\n",
              "      <td>NY</td>\n",
              "      <td>14527</td>\n",
              "      <td>YATES</td>\n",
              "      <td>(315) 787-4175</td>\n",
              "      <td>Critical Access Hospitals</td>\n",
              "      <td>Voluntary non-profit - Other</td>\n",
              "      <td>True</td>\n",
              "      <td>True</td>\n",
              "      <td>3</td>\n",
              "      <td>NaN</td>\n",
              "      <td>Same as the national average</td>\n",
              "      <td>NaN</td>\n",
              "      <td>Not Available</td>\n",
              "      <td>16.0</td>\n",
              "      <td>Same as the national average</td>\n",
              "      <td>NaN</td>\n",
              "      <td>Same as the national average</td>\n",
              "      <td>NaN</td>\n",
              "      <td>Same as the national average</td>\n",
              "      <td>NaN</td>\n",
              "      <td>Above the national average</td>\n",
              "      <td>NaN</td>\n",
              "      <td>Not Available</td>\n",
              "      <td>5.0</td>\n",
              "      <td>POINT (-77.059591 42.670468)</td>\n",
              "    </tr>\n",
              "  </tbody>\n",
              "</table>\n",
              "</div>"
            ],
            "text/plain": [
              "     provider_id  ...                               location\n",
              "123       330201  ...   POINT (-73.934072 40.65892900000001)\n",
              "1463      330246  ...   POINT (-73.05983200000001 40.947392)\n",
              "133       330013  ...            POINT (-73.77386 42.653254)\n",
              "992       330267  ...           POINT (-73.893601 41.291457)\n",
              "2923      330144  ...            POINT (-77.278553 42.37297)\n",
              "1547      330229  ...  POINT (-79.333617 42.480106000000006)\n",
              "2012      331314  ...           POINT (-77.059591 42.670468)\n",
              "\n",
              "[7 rows x 29 columns]"
            ]
          },
          "metadata": {},
          "execution_count": 90
        }
      ]
    },
    {
      "cell_type": "code",
      "source": [
        "NY_inpatient = inpatientdf[inpatientdf['provider_state'] == 'NY']\n",
        "NY_inpatient.sample(4)"
      ],
      "metadata": {
        "colab": {
          "base_uri": "https://localhost:8080/",
          "height": 438
        },
        "id": "7ErKOT0S2ACe",
        "outputId": "9cf82ca2-c9e7-4b96-dc61-4fd43cb4ec73"
      },
      "execution_count": null,
      "outputs": [
        {
          "output_type": "execute_result",
          "data": {
            "text/html": [
              "<div>\n",
              "<style scoped>\n",
              "    .dataframe tbody tr th:only-of-type {\n",
              "        vertical-align: middle;\n",
              "    }\n",
              "\n",
              "    .dataframe tbody tr th {\n",
              "        vertical-align: top;\n",
              "    }\n",
              "\n",
              "    .dataframe thead th {\n",
              "        text-align: right;\n",
              "    }\n",
              "</style>\n",
              "<table border=\"1\" class=\"dataframe\">\n",
              "  <thead>\n",
              "    <tr style=\"text-align: right;\">\n",
              "      <th></th>\n",
              "      <th>provider_id</th>\n",
              "      <th>provider_name</th>\n",
              "      <th>provider_street_address</th>\n",
              "      <th>provider_city</th>\n",
              "      <th>provider_state</th>\n",
              "      <th>provider_zipcode</th>\n",
              "      <th>drg_definition</th>\n",
              "      <th>hospital_referral_region_description</th>\n",
              "      <th>total_discharges</th>\n",
              "      <th>average_covered_charges</th>\n",
              "      <th>average_total_payments</th>\n",
              "      <th>average_medicare_payments</th>\n",
              "    </tr>\n",
              "  </thead>\n",
              "  <tbody>\n",
              "    <tr>\n",
              "      <th>93060</th>\n",
              "      <td>330273</td>\n",
              "      <td>PUTNAM HOSPITAL CENTER</td>\n",
              "      <td>670 STONELEIGH AVENUE</td>\n",
              "      <td>CARMEL</td>\n",
              "      <td>NY</td>\n",
              "      <td>10512</td>\n",
              "      <td>309 - CARDIAC ARRHYTHMIA &amp; CONDUCTION DISORDER...</td>\n",
              "      <td>CT - New Haven</td>\n",
              "      <td>25</td>\n",
              "      <td>19895.80</td>\n",
              "      <td>5508.56</td>\n",
              "      <td>4761.36</td>\n",
              "    </tr>\n",
              "    <tr>\n",
              "      <th>200315</th>\n",
              "      <td>330340</td>\n",
              "      <td>SOUTHAMPTON HOSPITAL</td>\n",
              "      <td>240 MEETING HOUSE LANE</td>\n",
              "      <td>SOUTHAMPTON</td>\n",
              "      <td>NY</td>\n",
              "      <td>11968</td>\n",
              "      <td>920 - COMPLICATIONS OF TREATMENT W CC</td>\n",
              "      <td>NY - East Long Island</td>\n",
              "      <td>11</td>\n",
              "      <td>35917.91</td>\n",
              "      <td>10014.45</td>\n",
              "      <td>8527.64</td>\n",
              "    </tr>\n",
              "    <tr>\n",
              "      <th>143795</th>\n",
              "      <td>330394</td>\n",
              "      <td>UNITED HEALTH SERVICES HOSPITALS, INC</td>\n",
              "      <td>33-57 HARRISON STREET</td>\n",
              "      <td>JOHNSON CITY</td>\n",
              "      <td>NY</td>\n",
              "      <td>13790</td>\n",
              "      <td>863 - POSTOPERATIVE &amp; POST-TRAUMATIC INFECTION...</td>\n",
              "      <td>NY - Binghamton</td>\n",
              "      <td>16</td>\n",
              "      <td>26881.63</td>\n",
              "      <td>7099.25</td>\n",
              "      <td>6310.44</td>\n",
              "    </tr>\n",
              "    <tr>\n",
              "      <th>31455</th>\n",
              "      <td>330245</td>\n",
              "      <td>ST ELIZABETH MEDICAL CENTER</td>\n",
              "      <td>2209 GENESEE STREET</td>\n",
              "      <td>UTICA</td>\n",
              "      <td>NY</td>\n",
              "      <td>13501</td>\n",
              "      <td>177 - RESPIRATORY INFECTIONS &amp; INFLAMMATIONS W...</td>\n",
              "      <td>NY - Elmira</td>\n",
              "      <td>16</td>\n",
              "      <td>39040.38</td>\n",
              "      <td>13164.38</td>\n",
              "      <td>10775.44</td>\n",
              "    </tr>\n",
              "  </tbody>\n",
              "</table>\n",
              "</div>"
            ],
            "text/plain": [
              "        provider_id  ... average_medicare_payments\n",
              "93060        330273  ...                   4761.36\n",
              "200315       330340  ...                   8527.64\n",
              "143795       330394  ...                   6310.44\n",
              "31455        330245  ...                  10775.44\n",
              "\n",
              "[4 rows x 12 columns]"
            ]
          },
          "metadata": {},
          "execution_count": 58
        }
      ]
    },
    {
      "cell_type": "code",
      "source": [
        "NY_outpatient = outpatientdf[outpatientdf['provider_state'] == 'NY']\n",
        "NY_outpatient.sample(4)"
      ],
      "metadata": {
        "colab": {
          "base_uri": "https://localhost:8080/",
          "height": 403
        },
        "id": "A3GIzeWW2FN1",
        "outputId": "75cf0d43-2c5d-4929-f068-c976a38139d9"
      },
      "execution_count": null,
      "outputs": [
        {
          "output_type": "execute_result",
          "data": {
            "text/html": [
              "<div>\n",
              "<style scoped>\n",
              "    .dataframe tbody tr th:only-of-type {\n",
              "        vertical-align: middle;\n",
              "    }\n",
              "\n",
              "    .dataframe tbody tr th {\n",
              "        vertical-align: top;\n",
              "    }\n",
              "\n",
              "    .dataframe thead th {\n",
              "        text-align: right;\n",
              "    }\n",
              "</style>\n",
              "<table border=\"1\" class=\"dataframe\">\n",
              "  <thead>\n",
              "    <tr style=\"text-align: right;\">\n",
              "      <th></th>\n",
              "      <th>provider_id</th>\n",
              "      <th>provider_name</th>\n",
              "      <th>provider_street_address</th>\n",
              "      <th>provider_city</th>\n",
              "      <th>provider_state</th>\n",
              "      <th>provider_zipcode</th>\n",
              "      <th>apc</th>\n",
              "      <th>hospital_referral_region</th>\n",
              "      <th>outpatient_services</th>\n",
              "      <th>average_estimated_submitted_charges</th>\n",
              "      <th>average_total_payments</th>\n",
              "    </tr>\n",
              "  </thead>\n",
              "  <tbody>\n",
              "    <tr>\n",
              "      <th>18415</th>\n",
              "      <td>330307</td>\n",
              "      <td>Cayuga Medical Center At Ithaca</td>\n",
              "      <td>101 Dates Drive</td>\n",
              "      <td>Ithaca</td>\n",
              "      <td>NY</td>\n",
              "      <td>14850</td>\n",
              "      <td>0369 - Level II Pulmonary Tests</td>\n",
              "      <td>NY - Rochester</td>\n",
              "      <td>183</td>\n",
              "      <td>591.938525</td>\n",
              "      <td>200.438907</td>\n",
              "    </tr>\n",
              "    <tr>\n",
              "      <th>13800</th>\n",
              "      <td>330211</td>\n",
              "      <td>Claxton-Hepburn Medical Center</td>\n",
              "      <td>214 King Street</td>\n",
              "      <td>Ogdensburg</td>\n",
              "      <td>NY</td>\n",
              "      <td>13669</td>\n",
              "      <td>0020 - Level II Excision/ Biopsy</td>\n",
              "      <td>NY - Syracuse</td>\n",
              "      <td>19</td>\n",
              "      <td>2326.976842</td>\n",
              "      <td>777.870526</td>\n",
              "    </tr>\n",
              "    <tr>\n",
              "      <th>9514</th>\n",
              "      <td>330005</td>\n",
              "      <td>Kaleida Health</td>\n",
              "      <td>726 Exchange Street, Suite 522</td>\n",
              "      <td>Buffalo</td>\n",
              "      <td>NY</td>\n",
              "      <td>14210</td>\n",
              "      <td>0020 - Level II Excision/ Biopsy</td>\n",
              "      <td>NY - Buffalo</td>\n",
              "      <td>37</td>\n",
              "      <td>4175.691081</td>\n",
              "      <td>806.649459</td>\n",
              "    </tr>\n",
              "    <tr>\n",
              "      <th>324</th>\n",
              "      <td>330239</td>\n",
              "      <td>Woman's Christian Association</td>\n",
              "      <td>207 Foote Avenue</td>\n",
              "      <td>Jamestown</td>\n",
              "      <td>NY</td>\n",
              "      <td>14701</td>\n",
              "      <td>0207 - Level III Nerve Injections</td>\n",
              "      <td>PA - Erie</td>\n",
              "      <td>196</td>\n",
              "      <td>850.306990</td>\n",
              "      <td>469.910204</td>\n",
              "    </tr>\n",
              "  </tbody>\n",
              "</table>\n",
              "</div>"
            ],
            "text/plain": [
              "       provider_id  ... average_total_payments\n",
              "18415       330307  ...             200.438907\n",
              "13800       330211  ...             777.870526\n",
              "9514        330005  ...             806.649459\n",
              "324         330239  ...             469.910204\n",
              "\n",
              "[4 rows x 11 columns]"
            ]
          },
          "metadata": {},
          "execution_count": 59
        }
      ]
    },
    {
      "cell_type": "markdown",
      "source": [
        "\n",
        "\n",
        "---\n",
        "\n",
        "\n",
        "\n",
        "---\n",
        "\n"
      ],
      "metadata": {
        "id": "hshUcE_y2RbM"
      }
    },
    {
      "cell_type": "markdown",
      "source": [
        "# **Questions**"
      ],
      "metadata": {
        "id": "QZVBPloEA9db"
      }
    },
    {
      "cell_type": "markdown",
      "source": [
        "1. What are the most common hospital types and where does New York rank in regards to timeliness of care?\n",
        "2. Which states have the greatest number of inpatient and outpatient facilities?\n",
        "3. What is Stony Brook's top 3 and bottom 3 inpatient DRG service?\n",
        "4. What are the top 3 expensive APC for SBU Hopsital?\n",
        "5. What is the difference between the total payment of Stony Brook Hospital compared to st. charles hospital?\n",
        "6. How does New York's mortality rate compare with North Carolina?\n"
      ],
      "metadata": {
        "id": "mT9hYk7rA_zk"
      }
    },
    {
      "cell_type": "code",
      "source": [
        "display(hospital_type_df)"
      ],
      "metadata": {
        "colab": {
          "base_uri": "https://localhost:8080/",
          "height": 206
        },
        "id": "fHFy3VxKCTcB",
        "outputId": "c22c5cc4-5b96-4b28-da6f-ef162c4e9662"
      },
      "execution_count": null,
      "outputs": [
        {
          "output_type": "display_data",
          "data": {
            "text/html": [
              "<div>\n",
              "<style scoped>\n",
              "    .dataframe tbody tr th:only-of-type {\n",
              "        vertical-align: middle;\n",
              "    }\n",
              "\n",
              "    .dataframe tbody tr th {\n",
              "        vertical-align: top;\n",
              "    }\n",
              "\n",
              "    .dataframe thead th {\n",
              "        text-align: right;\n",
              "    }\n",
              "</style>\n",
              "<table border=\"1\" class=\"dataframe\">\n",
              "  <thead>\n",
              "    <tr style=\"text-align: right;\">\n",
              "      <th></th>\n",
              "      <th>hospital type</th>\n",
              "      <th>total # of hospitals</th>\n",
              "    </tr>\n",
              "  </thead>\n",
              "  <tbody>\n",
              "    <tr>\n",
              "      <th>0</th>\n",
              "      <td>Acute Care Hospitals</td>\n",
              "      <td>3256</td>\n",
              "    </tr>\n",
              "    <tr>\n",
              "      <th>1</th>\n",
              "      <td>Critical Access Hospitals</td>\n",
              "      <td>1355</td>\n",
              "    </tr>\n",
              "    <tr>\n",
              "      <th>2</th>\n",
              "      <td>Psychiatric</td>\n",
              "      <td>573</td>\n",
              "    </tr>\n",
              "    <tr>\n",
              "      <th>3</th>\n",
              "      <td>Childrens</td>\n",
              "      <td>95</td>\n",
              "    </tr>\n",
              "    <tr>\n",
              "      <th>4</th>\n",
              "      <td>Acute Care - Department of Defense</td>\n",
              "      <td>35</td>\n",
              "    </tr>\n",
              "  </tbody>\n",
              "</table>\n",
              "</div>"
            ],
            "text/plain": [
              "                        hospital type    total # of hospitals\n",
              "0                Acute Care Hospitals                    3256\n",
              "1           Critical Access Hospitals                    1355\n",
              "2                         Psychiatric                     573\n",
              "3                           Childrens                      95\n",
              "4  Acute Care - Department of Defense                      35"
            ]
          },
          "metadata": {}
        }
      ]
    },
    {
      "cell_type": "code",
      "source": [
        "df_Hospital['hospital_type'].unique()"
      ],
      "metadata": {
        "colab": {
          "base_uri": "https://localhost:8080/"
        },
        "id": "aAMl2B9MCq4Z",
        "outputId": "bacc3eb1-7430-4b48-febf-467c02ccc9cc"
      },
      "execution_count": null,
      "outputs": [
        {
          "output_type": "execute_result",
          "data": {
            "text/plain": [
              "array(['Acute Care Hospitals', 'Critical Access Hospitals', 'Childrens',\n",
              "       'Psychiatric', 'Acute Care - Department of Defense'], dtype=object)"
            ]
          },
          "metadata": {},
          "execution_count": 87
        }
      ]
    },
    {
      "cell_type": "code",
      "source": [
        "hospital_type_df = pd.value_counts(df_Hospital['hospital_type'])\n",
        "hospital_type_df = pd.DataFrame(hospital_type_df)\n",
        "hospital_type_df = hospital_type_df.reset_index()\n",
        "hospital_type_df.columns = ['hospital type', '  total # of hospitals']"
      ],
      "metadata": {
        "id": "xc6PX3miDrrR"
      },
      "execution_count": null,
      "outputs": []
    },
    {
      "cell_type": "code",
      "source": [
        "def load_hospitals(allow_input_mutation=True):\n",
        "    df_hospital_1 = pd.read_csv('https://raw.githubusercontent.com/hantswilliams/AHI_STATS_507/main/Week13_Summary/output/df_hospital_2.csv')\n",
        "    return df_hospital_1\n",
        "\n",
        "\n",
        "def load_inatpatient(allow_input_mutation=True):\n",
        "    df_inpatient_1 = pd.read_csv('https://raw.githubusercontent.com/hantswilliams/AHI_STATS_507/main/Week13_Summary/output/df_inpatient_2.csv')\n",
        "    return df_inpatient_1\n",
        "\n",
        "\n",
        "def load_outpatient(allow_input_mutation=True):\n",
        "    df_outpatient_1= pd.read_csv('https://raw.githubusercontent.com/hantswilliams/AHI_STATS_507/main/Week13_Summary/output/df_outpatient_2.csv')\n",
        "    return df_outpatient_1"
      ],
      "metadata": {
        "id": "RJYG9fZhh55m"
      },
      "execution_count": null,
      "outputs": []
    },
    {
      "cell_type": "code",
      "source": [
        "df_hospital_1 = load_hospitals()\n",
        "df_inpatient_1 = load_inatpatient()\n",
        "df_outpatient_1 = load_outpatient()"
      ],
      "metadata": {
        "id": "-w3kmIaSh27e"
      },
      "execution_count": null,
      "outputs": []
    },
    {
      "cell_type": "code",
      "source": [
        "ny_hospitals = df_hospital_1[df_hospital_1['state'] == 'NY']\n",
        "\n",
        "nc_hospitals = df_hospital_1[df_hospital_1['state'] == 'NC']"
      ],
      "metadata": {
        "id": "lIZAEDcshyam"
      },
      "execution_count": null,
      "outputs": []
    },
    {
      "cell_type": "code",
      "source": [
        "import pandas as pd\n",
        "import plotly.express as px\n",
        "import pandas as pd\n",
        "import numpy as np\n",
        "import time\n",
        "import matplotlib.pyplot as plt\n",
        "import plotly.graph_objects as go\n",
        "import plotly"
      ],
      "metadata": {
        "id": "jDa-n2MdiFvn"
      },
      "execution_count": null,
      "outputs": []
    },
    {
      "cell_type": "code",
      "source": [
        "import os\n",
        "import glob\n",
        "import pandas as pd"
      ],
      "metadata": {
        "id": "teHRrAMnksZX"
      },
      "execution_count": null,
      "outputs": []
    },
    {
      "cell_type": "markdown",
      "source": [
        "Merged dataset and cleaning"
      ],
      "metadata": {
        "id": "yA_jqm3Zk3bq"
      }
    },
    {
      "cell_type": "code",
      "source": [
        "df_Outpatient\n",
        "df_Hospital['provider_id'] = df_Hospital['provider_id'].astype(str)\n",
        "df_Outpatient['provider_id'] = df_Outpatient['provider_id'].astype(str)\n",
        "df_merged = df_Outpatient.merge(df_Hospital, how='left', left_on='provider_id', right_on='provider_id')\n",
        "df_merged.sample(10)"
      ],
      "metadata": {
        "colab": {
          "base_uri": "https://localhost:8080/",
          "height": 921
        },
        "id": "la0q1Ffik41O",
        "outputId": "4038181e-7a0a-408c-f51f-49ea705a7682"
      },
      "execution_count": null,
      "outputs": [
        {
          "output_type": "execute_result",
          "data": {
            "text/html": [
              "<div>\n",
              "<style scoped>\n",
              "    .dataframe tbody tr th:only-of-type {\n",
              "        vertical-align: middle;\n",
              "    }\n",
              "\n",
              "    .dataframe tbody tr th {\n",
              "        vertical-align: top;\n",
              "    }\n",
              "\n",
              "    .dataframe thead th {\n",
              "        text-align: right;\n",
              "    }\n",
              "</style>\n",
              "<table border=\"1\" class=\"dataframe\">\n",
              "  <thead>\n",
              "    <tr style=\"text-align: right;\">\n",
              "      <th></th>\n",
              "      <th>provider_id</th>\n",
              "      <th>provider_name</th>\n",
              "      <th>provider_street_address</th>\n",
              "      <th>provider_city</th>\n",
              "      <th>provider_state</th>\n",
              "      <th>provider_zipcode</th>\n",
              "      <th>apc</th>\n",
              "      <th>hospital_referral_region</th>\n",
              "      <th>outpatient_services</th>\n",
              "      <th>average_estimated_submitted_charges</th>\n",
              "      <th>average_total_payments</th>\n",
              "      <th>hospital_name</th>\n",
              "      <th>address</th>\n",
              "      <th>city</th>\n",
              "      <th>state</th>\n",
              "      <th>zip_code</th>\n",
              "      <th>county_name</th>\n",
              "      <th>phone_number</th>\n",
              "      <th>hospital_type</th>\n",
              "      <th>hospital_ownership</th>\n",
              "      <th>emergency_services</th>\n",
              "      <th>meets_criteria_for_meaningful_use_of_ehrs</th>\n",
              "      <th>hospital_overall_rating</th>\n",
              "      <th>hospital_overall_rating_footnote</th>\n",
              "      <th>mortality_national_comparison</th>\n",
              "      <th>mortality_national_comparison_footnote</th>\n",
              "      <th>safety_of_care_national_comparison</th>\n",
              "      <th>safety_of_care_national_comparison_footnote</th>\n",
              "      <th>readmission_national_comparison</th>\n",
              "      <th>readmission_national_comparison_footnote</th>\n",
              "      <th>patient_experience_national_comparison</th>\n",
              "      <th>patient_experience_national_comparison_footnote</th>\n",
              "      <th>effectiveness_of_care_national_comparison</th>\n",
              "      <th>effectiveness_of_care_national_comparison_footnote</th>\n",
              "      <th>timeliness_of_care_national_comparison</th>\n",
              "      <th>timeliness_of_care_national_comparison_footnote</th>\n",
              "      <th>efficient_use_of_medical_imaging_national_comparison</th>\n",
              "      <th>efficient_use_of_medical_imaging_national_comparison_footnote</th>\n",
              "      <th>location</th>\n",
              "    </tr>\n",
              "  </thead>\n",
              "  <tbody>\n",
              "    <tr>\n",
              "      <th>22945</th>\n",
              "      <td>310015</td>\n",
              "      <td>Morristown Medical Center</td>\n",
              "      <td>100 Madison Ave</td>\n",
              "      <td>Morristown</td>\n",
              "      <td>NJ</td>\n",
              "      <td>7962</td>\n",
              "      <td>0267 - Level III Diagnostic and Screening Ultr...</td>\n",
              "      <td>NJ - Morristown</td>\n",
              "      <td>5573</td>\n",
              "      <td>1181.411253</td>\n",
              "      <td>216.824847</td>\n",
              "      <td>MORRISTOWN MEDICAL CENTER</td>\n",
              "      <td>100 MADISON AVE</td>\n",
              "      <td>MORRISTOWN</td>\n",
              "      <td>NJ</td>\n",
              "      <td>7960.0</td>\n",
              "      <td>MORRIS</td>\n",
              "      <td>(973) 971-5000</td>\n",
              "      <td>Acute Care Hospitals</td>\n",
              "      <td>Voluntary non-profit - Private</td>\n",
              "      <td>True</td>\n",
              "      <td>True</td>\n",
              "      <td>5</td>\n",
              "      <td>NaN</td>\n",
              "      <td>Above the national average</td>\n",
              "      <td>NaN</td>\n",
              "      <td>Above the national average</td>\n",
              "      <td>NaN</td>\n",
              "      <td>Above the national average</td>\n",
              "      <td>NaN</td>\n",
              "      <td>Above the national average</td>\n",
              "      <td>NaN</td>\n",
              "      <td>Same as the national average</td>\n",
              "      <td>NaN</td>\n",
              "      <td>Below the national average</td>\n",
              "      <td>NaN</td>\n",
              "      <td>Above the national average</td>\n",
              "      <td>NaN</td>\n",
              "      <td>POINT (-74.464855 40.787896)</td>\n",
              "    </tr>\n",
              "    <tr>\n",
              "      <th>9213</th>\n",
              "      <td>340116</td>\n",
              "      <td>Frye Regional Medical Center</td>\n",
              "      <td>420 N Center St</td>\n",
              "      <td>Hickory</td>\n",
              "      <td>NC</td>\n",
              "      <td>28601</td>\n",
              "      <td>0015 - Level II Debridement &amp; Destruction</td>\n",
              "      <td>NC - Hickory</td>\n",
              "      <td>218</td>\n",
              "      <td>735.979954</td>\n",
              "      <td>120.215872</td>\n",
              "      <td>FRYE REGIONAL MEDICAL CENTER</td>\n",
              "      <td>420 N CENTER ST</td>\n",
              "      <td>HICKORY</td>\n",
              "      <td>NC</td>\n",
              "      <td>28601.0</td>\n",
              "      <td>CATAWBA</td>\n",
              "      <td>(828) 322-6070</td>\n",
              "      <td>Acute Care Hospitals</td>\n",
              "      <td>Proprietary</td>\n",
              "      <td>True</td>\n",
              "      <td>True</td>\n",
              "      <td>2</td>\n",
              "      <td>NaN</td>\n",
              "      <td>Below the national average</td>\n",
              "      <td>NaN</td>\n",
              "      <td>Same as the national average</td>\n",
              "      <td>NaN</td>\n",
              "      <td>Below the national average</td>\n",
              "      <td>NaN</td>\n",
              "      <td>Below the national average</td>\n",
              "      <td>NaN</td>\n",
              "      <td>Same as the national average</td>\n",
              "      <td>NaN</td>\n",
              "      <td>Below the national average</td>\n",
              "      <td>NaN</td>\n",
              "      <td>Same as the national average</td>\n",
              "      <td>NaN</td>\n",
              "      <td>POINT (-81.337778 35.737175)</td>\n",
              "    </tr>\n",
              "    <tr>\n",
              "      <th>12123</th>\n",
              "      <td>70036</td>\n",
              "      <td>John Dempsey Hospital</td>\n",
              "      <td>263 Farmington Ave</td>\n",
              "      <td>Farmington</td>\n",
              "      <td>CT</td>\n",
              "      <td>6032</td>\n",
              "      <td>0265 - Level I Diagnostic and Screening Ultras...</td>\n",
              "      <td>CT - Hartford</td>\n",
              "      <td>298</td>\n",
              "      <td>324.976510</td>\n",
              "      <td>100.707416</td>\n",
              "      <td>NaN</td>\n",
              "      <td>NaN</td>\n",
              "      <td>NaN</td>\n",
              "      <td>NaN</td>\n",
              "      <td>NaN</td>\n",
              "      <td>NaN</td>\n",
              "      <td>NaN</td>\n",
              "      <td>NaN</td>\n",
              "      <td>NaN</td>\n",
              "      <td>NaN</td>\n",
              "      <td>NaN</td>\n",
              "      <td>NaN</td>\n",
              "      <td>NaN</td>\n",
              "      <td>NaN</td>\n",
              "      <td>NaN</td>\n",
              "      <td>NaN</td>\n",
              "      <td>NaN</td>\n",
              "      <td>NaN</td>\n",
              "      <td>NaN</td>\n",
              "      <td>NaN</td>\n",
              "      <td>NaN</td>\n",
              "      <td>NaN</td>\n",
              "      <td>NaN</td>\n",
              "      <td>NaN</td>\n",
              "      <td>NaN</td>\n",
              "      <td>NaN</td>\n",
              "      <td>NaN</td>\n",
              "      <td>NaN</td>\n",
              "    </tr>\n",
              "    <tr>\n",
              "      <th>9489</th>\n",
              "      <td>300019</td>\n",
              "      <td>Cheshire Medical Center</td>\n",
              "      <td>580 Court Street</td>\n",
              "      <td>Keene</td>\n",
              "      <td>NH</td>\n",
              "      <td>3431</td>\n",
              "      <td>0206 - Level II Nerve Injections</td>\n",
              "      <td>NH - Lebanon</td>\n",
              "      <td>72</td>\n",
              "      <td>890.183333</td>\n",
              "      <td>365.921806</td>\n",
              "      <td>CHESHIRE MEDICAL CENTER</td>\n",
              "      <td>580 COURT STREET</td>\n",
              "      <td>KEENE</td>\n",
              "      <td>NH</td>\n",
              "      <td>3431.0</td>\n",
              "      <td>CHESHIRE</td>\n",
              "      <td>(603) 354-5400</td>\n",
              "      <td>Acute Care Hospitals</td>\n",
              "      <td>Voluntary non-profit - Private</td>\n",
              "      <td>True</td>\n",
              "      <td>True</td>\n",
              "      <td>3</td>\n",
              "      <td>NaN</td>\n",
              "      <td>Same as the national average</td>\n",
              "      <td>NaN</td>\n",
              "      <td>Above the national average</td>\n",
              "      <td>NaN</td>\n",
              "      <td>Same as the national average</td>\n",
              "      <td>NaN</td>\n",
              "      <td>Below the national average</td>\n",
              "      <td>NaN</td>\n",
              "      <td>Same as the national average</td>\n",
              "      <td>NaN</td>\n",
              "      <td>Below the national average</td>\n",
              "      <td>NaN</td>\n",
              "      <td>Above the national average</td>\n",
              "      <td>NaN</td>\n",
              "      <td>POINT (-72.290725 42.949854)</td>\n",
              "    </tr>\n",
              "    <tr>\n",
              "      <th>25333</th>\n",
              "      <td>40088</td>\n",
              "      <td>Medical Center South Arkansas</td>\n",
              "      <td>700 West Grove Street</td>\n",
              "      <td>El Dorado</td>\n",
              "      <td>AR</td>\n",
              "      <td>71731</td>\n",
              "      <td>0369 - Level II Pulmonary Tests</td>\n",
              "      <td>AR - Little Rock</td>\n",
              "      <td>61</td>\n",
              "      <td>1659.065738</td>\n",
              "      <td>212.706885</td>\n",
              "      <td>NaN</td>\n",
              "      <td>NaN</td>\n",
              "      <td>NaN</td>\n",
              "      <td>NaN</td>\n",
              "      <td>NaN</td>\n",
              "      <td>NaN</td>\n",
              "      <td>NaN</td>\n",
              "      <td>NaN</td>\n",
              "      <td>NaN</td>\n",
              "      <td>NaN</td>\n",
              "      <td>NaN</td>\n",
              "      <td>NaN</td>\n",
              "      <td>NaN</td>\n",
              "      <td>NaN</td>\n",
              "      <td>NaN</td>\n",
              "      <td>NaN</td>\n",
              "      <td>NaN</td>\n",
              "      <td>NaN</td>\n",
              "      <td>NaN</td>\n",
              "      <td>NaN</td>\n",
              "      <td>NaN</td>\n",
              "      <td>NaN</td>\n",
              "      <td>NaN</td>\n",
              "      <td>NaN</td>\n",
              "      <td>NaN</td>\n",
              "      <td>NaN</td>\n",
              "      <td>NaN</td>\n",
              "      <td>NaN</td>\n",
              "    </tr>\n",
              "    <tr>\n",
              "      <th>14665</th>\n",
              "      <td>420053</td>\n",
              "      <td>Newberry County Memorial Hospital</td>\n",
              "      <td>2669 Kinard St Po Box 497</td>\n",
              "      <td>Newberry</td>\n",
              "      <td>SC</td>\n",
              "      <td>29108</td>\n",
              "      <td>0204 - Level I Nerve Injections</td>\n",
              "      <td>SC - Columbia</td>\n",
              "      <td>16</td>\n",
              "      <td>1043.145000</td>\n",
              "      <td>199.830000</td>\n",
              "      <td>NEWBERRY COUNTY MEMORIAL HOSPITAL</td>\n",
              "      <td>2669 KINARD ST PO BOX 497</td>\n",
              "      <td>NEWBERRY</td>\n",
              "      <td>SC</td>\n",
              "      <td>29108.0</td>\n",
              "      <td>NEWBERRY</td>\n",
              "      <td>(803) 405-7145</td>\n",
              "      <td>Acute Care Hospitals</td>\n",
              "      <td>Voluntary non-profit - Other</td>\n",
              "      <td>True</td>\n",
              "      <td>True</td>\n",
              "      <td>4</td>\n",
              "      <td>NaN</td>\n",
              "      <td>Same as the national average</td>\n",
              "      <td>NaN</td>\n",
              "      <td>Same as the national average</td>\n",
              "      <td>NaN</td>\n",
              "      <td>Above the national average</td>\n",
              "      <td>NaN</td>\n",
              "      <td>Above the national average</td>\n",
              "      <td>NaN</td>\n",
              "      <td>Same as the national average</td>\n",
              "      <td>NaN</td>\n",
              "      <td>Same as the national average</td>\n",
              "      <td>NaN</td>\n",
              "      <td>Same as the national average</td>\n",
              "      <td>NaN</td>\n",
              "      <td>POINT (-81.604915 34.289433)</td>\n",
              "    </tr>\n",
              "    <tr>\n",
              "      <th>3525</th>\n",
              "      <td>220075</td>\n",
              "      <td>Massachusetts Eye And Ear Infirmary</td>\n",
              "      <td>243 Charles Street</td>\n",
              "      <td>Boston</td>\n",
              "      <td>MA</td>\n",
              "      <td>2114</td>\n",
              "      <td>0231 - Level III Eye Tests &amp; Treatments</td>\n",
              "      <td>MA - Boston</td>\n",
              "      <td>5139</td>\n",
              "      <td>517.367003</td>\n",
              "      <td>367.756190</td>\n",
              "      <td>MASSACHUSETTS EYE AND EAR INFIRMARY -</td>\n",
              "      <td>243 CHARLES STREET</td>\n",
              "      <td>BOSTON</td>\n",
              "      <td>MA</td>\n",
              "      <td>2114.0</td>\n",
              "      <td>SUFFOLK</td>\n",
              "      <td>(617) 523-7900</td>\n",
              "      <td>Acute Care Hospitals</td>\n",
              "      <td>Voluntary non-profit - Private</td>\n",
              "      <td>True</td>\n",
              "      <td>True</td>\n",
              "      <td>Not Available</td>\n",
              "      <td>16.0</td>\n",
              "      <td>Not Available</td>\n",
              "      <td>16.0</td>\n",
              "      <td>Not Available</td>\n",
              "      <td>5.0</td>\n",
              "      <td>Not Available</td>\n",
              "      <td>5.0</td>\n",
              "      <td>Above the national average</td>\n",
              "      <td>NaN</td>\n",
              "      <td>Not Available</td>\n",
              "      <td>5.0</td>\n",
              "      <td>Same as the national average</td>\n",
              "      <td>NaN</td>\n",
              "      <td>Not Available</td>\n",
              "      <td>5.0</td>\n",
              "      <td>POINT (-71.070521 42.362861)</td>\n",
              "    </tr>\n",
              "    <tr>\n",
              "      <th>9612</th>\n",
              "      <td>330163</td>\n",
              "      <td>Eastern Niagara Hospital</td>\n",
              "      <td>521 East Avenue</td>\n",
              "      <td>Lockport</td>\n",
              "      <td>NY</td>\n",
              "      <td>14094</td>\n",
              "      <td>0369 - Level II Pulmonary Tests</td>\n",
              "      <td>NY - Buffalo</td>\n",
              "      <td>79</td>\n",
              "      <td>448.743671</td>\n",
              "      <td>234.503797</td>\n",
              "      <td>EASTERN NIAGARA HOSPITAL</td>\n",
              "      <td>521 EAST AVENUE</td>\n",
              "      <td>LOCKPORT</td>\n",
              "      <td>NY</td>\n",
              "      <td>14094.0</td>\n",
              "      <td>NIAGARA</td>\n",
              "      <td>(716) 514-5700</td>\n",
              "      <td>Acute Care Hospitals</td>\n",
              "      <td>Voluntary non-profit - Private</td>\n",
              "      <td>True</td>\n",
              "      <td>NaN</td>\n",
              "      <td>1</td>\n",
              "      <td>NaN</td>\n",
              "      <td>Below the national average</td>\n",
              "      <td>NaN</td>\n",
              "      <td>Above the national average</td>\n",
              "      <td>NaN</td>\n",
              "      <td>Below the national average</td>\n",
              "      <td>NaN</td>\n",
              "      <td>Below the national average</td>\n",
              "      <td>NaN</td>\n",
              "      <td>Same as the national average</td>\n",
              "      <td>NaN</td>\n",
              "      <td>Same as the national average</td>\n",
              "      <td>NaN</td>\n",
              "      <td>Same as the national average</td>\n",
              "      <td>NaN</td>\n",
              "      <td>POINT (-78.671075 43.17638)</td>\n",
              "    </tr>\n",
              "    <tr>\n",
              "      <th>10324</th>\n",
              "      <td>450211</td>\n",
              "      <td>Memorial Medical Center Of East Texas</td>\n",
              "      <td>1201 West Frank Street</td>\n",
              "      <td>Lufkin</td>\n",
              "      <td>TX</td>\n",
              "      <td>75901</td>\n",
              "      <td>0336 - Magnetic Resonance Imaging and Magnetic...</td>\n",
              "      <td>TX - Houston</td>\n",
              "      <td>850</td>\n",
              "      <td>3935.387412</td>\n",
              "      <td>241.411776</td>\n",
              "      <td>CHI ST LUKES HEALTH MEMORIAL LUFKIN</td>\n",
              "      <td>1201 WEST FRANK STREET</td>\n",
              "      <td>LUFKIN</td>\n",
              "      <td>TX</td>\n",
              "      <td>75901.0</td>\n",
              "      <td>ANGELINA</td>\n",
              "      <td>(936) 634-8111</td>\n",
              "      <td>Acute Care Hospitals</td>\n",
              "      <td>Voluntary non-profit - Private</td>\n",
              "      <td>True</td>\n",
              "      <td>True</td>\n",
              "      <td>3</td>\n",
              "      <td>NaN</td>\n",
              "      <td>Same as the national average</td>\n",
              "      <td>NaN</td>\n",
              "      <td>Above the national average</td>\n",
              "      <td>NaN</td>\n",
              "      <td>Above the national average</td>\n",
              "      <td>NaN</td>\n",
              "      <td>Below the national average</td>\n",
              "      <td>NaN</td>\n",
              "      <td>Same as the national average</td>\n",
              "      <td>NaN</td>\n",
              "      <td>Same as the national average</td>\n",
              "      <td>NaN</td>\n",
              "      <td>Below the national average</td>\n",
              "      <td>NaN</td>\n",
              "      <td>POINT (-94.742481 31.337324000000002)</td>\n",
              "    </tr>\n",
              "    <tr>\n",
              "      <th>14237</th>\n",
              "      <td>380001</td>\n",
              "      <td>Mid-Columbia Medical Center</td>\n",
              "      <td>1700 E 19th Street</td>\n",
              "      <td>The Dalles</td>\n",
              "      <td>OR</td>\n",
              "      <td>97058</td>\n",
              "      <td>0634 - Hospital Clinic Visits</td>\n",
              "      <td>OR - Portland</td>\n",
              "      <td>3111</td>\n",
              "      <td>156.410755</td>\n",
              "      <td>108.482610</td>\n",
              "      <td>MID-COLUMBIA MEDICAL CENTER</td>\n",
              "      <td>1700 E 19TH STREET</td>\n",
              "      <td>THE DALLES</td>\n",
              "      <td>OR</td>\n",
              "      <td>97058.0</td>\n",
              "      <td>WASCO</td>\n",
              "      <td>(541) 296-1111</td>\n",
              "      <td>Acute Care Hospitals</td>\n",
              "      <td>Voluntary non-profit - Other</td>\n",
              "      <td>True</td>\n",
              "      <td>True</td>\n",
              "      <td>4</td>\n",
              "      <td>NaN</td>\n",
              "      <td>Same as the national average</td>\n",
              "      <td>NaN</td>\n",
              "      <td>Above the national average</td>\n",
              "      <td>NaN</td>\n",
              "      <td>Above the national average</td>\n",
              "      <td>NaN</td>\n",
              "      <td>Above the national average</td>\n",
              "      <td>NaN</td>\n",
              "      <td>Below the national average</td>\n",
              "      <td>NaN</td>\n",
              "      <td>Same as the national average</td>\n",
              "      <td>NaN</td>\n",
              "      <td>Same as the national average</td>\n",
              "      <td>NaN</td>\n",
              "      <td>POINT (-121.16547 45.587948)</td>\n",
              "    </tr>\n",
              "  </tbody>\n",
              "</table>\n",
              "</div>"
            ],
            "text/plain": [
              "      provider_id  ...                               location\n",
              "22945      310015  ...           POINT (-74.464855 40.787896)\n",
              "9213       340116  ...           POINT (-81.337778 35.737175)\n",
              "12123       70036  ...                                    NaN\n",
              "9489       300019  ...           POINT (-72.290725 42.949854)\n",
              "25333       40088  ...                                    NaN\n",
              "14665      420053  ...           POINT (-81.604915 34.289433)\n",
              "3525       220075  ...           POINT (-71.070521 42.362861)\n",
              "9612       330163  ...            POINT (-78.671075 43.17638)\n",
              "10324      450211  ...  POINT (-94.742481 31.337324000000002)\n",
              "14237      380001  ...           POINT (-121.16547 45.587948)\n",
              "\n",
              "[10 rows x 39 columns]"
            ]
          },
          "metadata": {},
          "execution_count": 110
        }
      ]
    },
    {
      "cell_type": "code",
      "source": [
        "df_merged_clean = df_merged[df_merged['hospital_name'].notna()]\n",
        "df_merged_clean.sample(15)"
      ],
      "metadata": {
        "colab": {
          "base_uri": "https://localhost:8080/",
          "height": 1000
        },
        "id": "_Pxdyu06k73v",
        "outputId": "537b24f9-3205-43c2-9610-46ec97ab7550"
      },
      "execution_count": null,
      "outputs": [
        {
          "output_type": "execute_result",
          "data": {
            "text/html": [
              "<div>\n",
              "<style scoped>\n",
              "    .dataframe tbody tr th:only-of-type {\n",
              "        vertical-align: middle;\n",
              "    }\n",
              "\n",
              "    .dataframe tbody tr th {\n",
              "        vertical-align: top;\n",
              "    }\n",
              "\n",
              "    .dataframe thead th {\n",
              "        text-align: right;\n",
              "    }\n",
              "</style>\n",
              "<table border=\"1\" class=\"dataframe\">\n",
              "  <thead>\n",
              "    <tr style=\"text-align: right;\">\n",
              "      <th></th>\n",
              "      <th>provider_id</th>\n",
              "      <th>provider_name</th>\n",
              "      <th>provider_street_address</th>\n",
              "      <th>provider_city</th>\n",
              "      <th>provider_state</th>\n",
              "      <th>provider_zipcode</th>\n",
              "      <th>apc</th>\n",
              "      <th>hospital_referral_region</th>\n",
              "      <th>outpatient_services</th>\n",
              "      <th>average_estimated_submitted_charges</th>\n",
              "      <th>average_total_payments</th>\n",
              "      <th>hospital_name</th>\n",
              "      <th>address</th>\n",
              "      <th>city</th>\n",
              "      <th>state</th>\n",
              "      <th>zip_code</th>\n",
              "      <th>county_name</th>\n",
              "      <th>phone_number</th>\n",
              "      <th>hospital_type</th>\n",
              "      <th>hospital_ownership</th>\n",
              "      <th>emergency_services</th>\n",
              "      <th>meets_criteria_for_meaningful_use_of_ehrs</th>\n",
              "      <th>hospital_overall_rating</th>\n",
              "      <th>hospital_overall_rating_footnote</th>\n",
              "      <th>mortality_national_comparison</th>\n",
              "      <th>mortality_national_comparison_footnote</th>\n",
              "      <th>safety_of_care_national_comparison</th>\n",
              "      <th>safety_of_care_national_comparison_footnote</th>\n",
              "      <th>readmission_national_comparison</th>\n",
              "      <th>readmission_national_comparison_footnote</th>\n",
              "      <th>patient_experience_national_comparison</th>\n",
              "      <th>patient_experience_national_comparison_footnote</th>\n",
              "      <th>effectiveness_of_care_national_comparison</th>\n",
              "      <th>effectiveness_of_care_national_comparison_footnote</th>\n",
              "      <th>timeliness_of_care_national_comparison</th>\n",
              "      <th>timeliness_of_care_national_comparison_footnote</th>\n",
              "      <th>efficient_use_of_medical_imaging_national_comparison</th>\n",
              "      <th>efficient_use_of_medical_imaging_national_comparison_footnote</th>\n",
              "      <th>location</th>\n",
              "    </tr>\n",
              "  </thead>\n",
              "  <tbody>\n",
              "    <tr>\n",
              "      <th>17565</th>\n",
              "      <td>340017</td>\n",
              "      <td>Margaret R Pardee Memorial Hospital</td>\n",
              "      <td>800 N Justice St</td>\n",
              "      <td>Hendersonville</td>\n",
              "      <td>NC</td>\n",
              "      <td>28791</td>\n",
              "      <td>0369 - Level II Pulmonary Tests</td>\n",
              "      <td>NC - Asheville</td>\n",
              "      <td>112</td>\n",
              "      <td>361.539464</td>\n",
              "      <td>201.246607</td>\n",
              "      <td>MARGARET R PARDEE MEMORIAL HOSPITAL</td>\n",
              "      <td>800 N JUSTICE ST</td>\n",
              "      <td>HENDERSONVILLE</td>\n",
              "      <td>NC</td>\n",
              "      <td>28791.0</td>\n",
              "      <td>HENDERSON</td>\n",
              "      <td>(828) 696-1000</td>\n",
              "      <td>Acute Care Hospitals</td>\n",
              "      <td>Government - Local</td>\n",
              "      <td>True</td>\n",
              "      <td>True</td>\n",
              "      <td>4</td>\n",
              "      <td>NaN</td>\n",
              "      <td>Same as the national average</td>\n",
              "      <td>NaN</td>\n",
              "      <td>Below the national average</td>\n",
              "      <td>NaN</td>\n",
              "      <td>Above the national average</td>\n",
              "      <td>NaN</td>\n",
              "      <td>Above the national average</td>\n",
              "      <td>NaN</td>\n",
              "      <td>Same as the national average</td>\n",
              "      <td>NaN</td>\n",
              "      <td>Same as the national average</td>\n",
              "      <td>NaN</td>\n",
              "      <td>Same as the national average</td>\n",
              "      <td>NaN</td>\n",
              "      <td>POINT (-82.468153 35.320814)</td>\n",
              "    </tr>\n",
              "    <tr>\n",
              "      <th>12449</th>\n",
              "      <td>120028</td>\n",
              "      <td>North Hawaii Community Hospital</td>\n",
              "      <td>67 1125 Mamalahoa Highway</td>\n",
              "      <td>Kamuela</td>\n",
              "      <td>HI</td>\n",
              "      <td>96743</td>\n",
              "      <td>0267 - Level III Diagnostic and Screening Ultr...</td>\n",
              "      <td>HI - Honolulu</td>\n",
              "      <td>102</td>\n",
              "      <td>670.725490</td>\n",
              "      <td>202.613725</td>\n",
              "      <td>NORTH HAWAII COMMUNITY HOSPITAL</td>\n",
              "      <td>67 1125 MAMALAHOA HIGHWAY</td>\n",
              "      <td>KAMUELA</td>\n",
              "      <td>HI</td>\n",
              "      <td>96743.0</td>\n",
              "      <td>HAWAII</td>\n",
              "      <td>(808) 885-4444</td>\n",
              "      <td>Acute Care Hospitals</td>\n",
              "      <td>Voluntary non-profit - Private</td>\n",
              "      <td>True</td>\n",
              "      <td>True</td>\n",
              "      <td>4</td>\n",
              "      <td>NaN</td>\n",
              "      <td>Same as the national average</td>\n",
              "      <td>NaN</td>\n",
              "      <td>Same as the national average</td>\n",
              "      <td>NaN</td>\n",
              "      <td>Above the national average</td>\n",
              "      <td>NaN</td>\n",
              "      <td>Above the national average</td>\n",
              "      <td>NaN</td>\n",
              "      <td>Same as the national average</td>\n",
              "      <td>NaN</td>\n",
              "      <td>Same as the national average</td>\n",
              "      <td>NaN</td>\n",
              "      <td>Same as the national average</td>\n",
              "      <td>NaN</td>\n",
              "      <td>NaN</td>\n",
              "    </tr>\n",
              "    <tr>\n",
              "      <th>19644</th>\n",
              "      <td>440144</td>\n",
              "      <td>Tennova Healthcare-Harton</td>\n",
              "      <td>1801 N Jackson St Box 460</td>\n",
              "      <td>Tullahoma</td>\n",
              "      <td>TN</td>\n",
              "      <td>37388</td>\n",
              "      <td>0369 - Level II Pulmonary Tests</td>\n",
              "      <td>TN - Nashville</td>\n",
              "      <td>170</td>\n",
              "      <td>2817.920529</td>\n",
              "      <td>212.549353</td>\n",
              "      <td>TENNOVA HEALTHCARE-HARTON</td>\n",
              "      <td>1801 N JACKSON ST BOX 460</td>\n",
              "      <td>TULLAHOMA</td>\n",
              "      <td>TN</td>\n",
              "      <td>37388.0</td>\n",
              "      <td>COFFEE</td>\n",
              "      <td>(931) 393-3000</td>\n",
              "      <td>Acute Care Hospitals</td>\n",
              "      <td>Voluntary non-profit - Other</td>\n",
              "      <td>True</td>\n",
              "      <td>True</td>\n",
              "      <td>2</td>\n",
              "      <td>NaN</td>\n",
              "      <td>Same as the national average</td>\n",
              "      <td>NaN</td>\n",
              "      <td>Below the national average</td>\n",
              "      <td>NaN</td>\n",
              "      <td>Below the national average</td>\n",
              "      <td>NaN</td>\n",
              "      <td>Below the national average</td>\n",
              "      <td>NaN</td>\n",
              "      <td>Same as the national average</td>\n",
              "      <td>NaN</td>\n",
              "      <td>Same as the national average</td>\n",
              "      <td>NaN</td>\n",
              "      <td>Same as the national average</td>\n",
              "      <td>NaN</td>\n",
              "      <td>POINT (-86.230533 35.382921)</td>\n",
              "    </tr>\n",
              "    <tr>\n",
              "      <th>4408</th>\n",
              "      <td>310041</td>\n",
              "      <td>Community Medical Center</td>\n",
              "      <td>99 Rt 37 West</td>\n",
              "      <td>Toms River</td>\n",
              "      <td>NJ</td>\n",
              "      <td>8755</td>\n",
              "      <td>0634 - Hospital Clinic Visits</td>\n",
              "      <td>NJ - Camden</td>\n",
              "      <td>1252</td>\n",
              "      <td>251.194888</td>\n",
              "      <td>110.311486</td>\n",
              "      <td>COMMUNITY MEDICAL CENTER</td>\n",
              "      <td>99 RT 37 WEST</td>\n",
              "      <td>TOMS RIVER</td>\n",
              "      <td>NJ</td>\n",
              "      <td>8755.0</td>\n",
              "      <td>OCEAN</td>\n",
              "      <td>(732) 557-8000</td>\n",
              "      <td>Acute Care Hospitals</td>\n",
              "      <td>Voluntary non-profit - Private</td>\n",
              "      <td>True</td>\n",
              "      <td>True</td>\n",
              "      <td>2</td>\n",
              "      <td>NaN</td>\n",
              "      <td>Below the national average</td>\n",
              "      <td>NaN</td>\n",
              "      <td>Above the national average</td>\n",
              "      <td>NaN</td>\n",
              "      <td>Below the national average</td>\n",
              "      <td>NaN</td>\n",
              "      <td>Below the national average</td>\n",
              "      <td>NaN</td>\n",
              "      <td>Same as the national average</td>\n",
              "      <td>NaN</td>\n",
              "      <td>Below the national average</td>\n",
              "      <td>NaN</td>\n",
              "      <td>Same as the national average</td>\n",
              "      <td>NaN</td>\n",
              "      <td>POINT (-74.21449 39.965083)</td>\n",
              "    </tr>\n",
              "    <tr>\n",
              "      <th>12620</th>\n",
              "      <td>140288</td>\n",
              "      <td>Advocate Good Samaritan Hospital</td>\n",
              "      <td>3815 Highland Avenue</td>\n",
              "      <td>Downers Grove</td>\n",
              "      <td>IL</td>\n",
              "      <td>60515</td>\n",
              "      <td>0269 - Level I Echocardiogram Without Contrast</td>\n",
              "      <td>IL - Hinsdale</td>\n",
              "      <td>787</td>\n",
              "      <td>2009.677255</td>\n",
              "      <td>413.971194</td>\n",
              "      <td>ADVOCATE GOOD SAMARITAN HOSPITAL</td>\n",
              "      <td>3815 HIGHLAND AVENUE</td>\n",
              "      <td>DOWNERS GROVE</td>\n",
              "      <td>IL</td>\n",
              "      <td>60515.0</td>\n",
              "      <td>DU PAGE</td>\n",
              "      <td>(630) 275-5900</td>\n",
              "      <td>Acute Care Hospitals</td>\n",
              "      <td>Voluntary non-profit - Church</td>\n",
              "      <td>True</td>\n",
              "      <td>True</td>\n",
              "      <td>3</td>\n",
              "      <td>NaN</td>\n",
              "      <td>Above the national average</td>\n",
              "      <td>NaN</td>\n",
              "      <td>Below the national average</td>\n",
              "      <td>NaN</td>\n",
              "      <td>Above the national average</td>\n",
              "      <td>NaN</td>\n",
              "      <td>Above the national average</td>\n",
              "      <td>NaN</td>\n",
              "      <td>Same as the national average</td>\n",
              "      <td>NaN</td>\n",
              "      <td>Same as the national average</td>\n",
              "      <td>NaN</td>\n",
              "      <td>Same as the national average</td>\n",
              "      <td>NaN</td>\n",
              "      <td>POINT (-88.01022 41.819137)</td>\n",
              "    </tr>\n",
              "    <tr>\n",
              "      <th>22109</th>\n",
              "      <td>150177</td>\n",
              "      <td>Unity Medical And Surgical Hospital</td>\n",
              "      <td>4455 Edison Lakes Pkwy</td>\n",
              "      <td>Mishawaka</td>\n",
              "      <td>IN</td>\n",
              "      <td>46545</td>\n",
              "      <td>0207 - Level III Nerve Injections</td>\n",
              "      <td>IN - South Bend</td>\n",
              "      <td>267</td>\n",
              "      <td>5390.990037</td>\n",
              "      <td>515.852921</td>\n",
              "      <td>UNITY MEDICAL AND SURGICAL HOSPITAL</td>\n",
              "      <td>4455 EDISON LAKES PKWY</td>\n",
              "      <td>MISHAWAKA</td>\n",
              "      <td>IN</td>\n",
              "      <td>46545.0</td>\n",
              "      <td>ST. JOSEPH</td>\n",
              "      <td>(574) 231-6800</td>\n",
              "      <td>Acute Care Hospitals</td>\n",
              "      <td>Physician</td>\n",
              "      <td>False</td>\n",
              "      <td>True</td>\n",
              "      <td>Not Available</td>\n",
              "      <td>16.0</td>\n",
              "      <td>Not Available</td>\n",
              "      <td>16.0</td>\n",
              "      <td>Not Available</td>\n",
              "      <td>5.0</td>\n",
              "      <td>Not Available</td>\n",
              "      <td>5.0</td>\n",
              "      <td>Above the national average</td>\n",
              "      <td>NaN</td>\n",
              "      <td>Same as the national average</td>\n",
              "      <td>NaN</td>\n",
              "      <td>Not Available</td>\n",
              "      <td>16.0</td>\n",
              "      <td>Not Available</td>\n",
              "      <td>5.0</td>\n",
              "      <td>POINT (-86.176781 41.700723)</td>\n",
              "    </tr>\n",
              "    <tr>\n",
              "      <th>1846</th>\n",
              "      <td>380051</td>\n",
              "      <td>Salem Hospital</td>\n",
              "      <td>890 Oak Street, Se</td>\n",
              "      <td>Salem</td>\n",
              "      <td>OR</td>\n",
              "      <td>97301</td>\n",
              "      <td>0336 - Magnetic Resonance Imaging and Magnetic...</td>\n",
              "      <td>OR - Salem</td>\n",
              "      <td>600</td>\n",
              "      <td>2090.442767</td>\n",
              "      <td>333.998733</td>\n",
              "      <td>SALEM HOSPITAL</td>\n",
              "      <td>890 OAK STREET, SE</td>\n",
              "      <td>SALEM</td>\n",
              "      <td>OR</td>\n",
              "      <td>97301.0</td>\n",
              "      <td>MARION</td>\n",
              "      <td>(503) 561-5200</td>\n",
              "      <td>Acute Care Hospitals</td>\n",
              "      <td>Voluntary non-profit - Other</td>\n",
              "      <td>True</td>\n",
              "      <td>True</td>\n",
              "      <td>3</td>\n",
              "      <td>NaN</td>\n",
              "      <td>Same as the national average</td>\n",
              "      <td>NaN</td>\n",
              "      <td>Below the national average</td>\n",
              "      <td>NaN</td>\n",
              "      <td>Above the national average</td>\n",
              "      <td>NaN</td>\n",
              "      <td>Above the national average</td>\n",
              "      <td>NaN</td>\n",
              "      <td>Below the national average</td>\n",
              "      <td>NaN</td>\n",
              "      <td>Below the national average</td>\n",
              "      <td>NaN</td>\n",
              "      <td>Same as the national average</td>\n",
              "      <td>NaN</td>\n",
              "      <td>POINT (-123.033146 44.932887)</td>\n",
              "    </tr>\n",
              "    <tr>\n",
              "      <th>11815</th>\n",
              "      <td>520116</td>\n",
              "      <td>Watertown Regional Medical Center</td>\n",
              "      <td>125 Hospital Drive</td>\n",
              "      <td>Watertown</td>\n",
              "      <td>WI</td>\n",
              "      <td>53098</td>\n",
              "      <td>0698 - Level II Eye Tests &amp; Treatments</td>\n",
              "      <td>WI - Madison</td>\n",
              "      <td>47</td>\n",
              "      <td>125.063830</td>\n",
              "      <td>82.849787</td>\n",
              "      <td>WATERTOWN MEMORIAL HOSPITAL</td>\n",
              "      <td>125 HOSPITAL DRIVE</td>\n",
              "      <td>WATERTOWN</td>\n",
              "      <td>WI</td>\n",
              "      <td>53098.0</td>\n",
              "      <td>DODGE</td>\n",
              "      <td>(920) 261-4210</td>\n",
              "      <td>Acute Care Hospitals</td>\n",
              "      <td>Voluntary non-profit - Private</td>\n",
              "      <td>True</td>\n",
              "      <td>True</td>\n",
              "      <td>4</td>\n",
              "      <td>NaN</td>\n",
              "      <td>Same as the national average</td>\n",
              "      <td>NaN</td>\n",
              "      <td>Above the national average</td>\n",
              "      <td>NaN</td>\n",
              "      <td>Above the national average</td>\n",
              "      <td>NaN</td>\n",
              "      <td>Same as the national average</td>\n",
              "      <td>NaN</td>\n",
              "      <td>Same as the national average</td>\n",
              "      <td>NaN</td>\n",
              "      <td>Above the national average</td>\n",
              "      <td>NaN</td>\n",
              "      <td>Same as the national average</td>\n",
              "      <td>NaN</td>\n",
              "      <td>POINT (-88.699014 43.199903)</td>\n",
              "    </tr>\n",
              "    <tr>\n",
              "      <th>12824</th>\n",
              "      <td>200009</td>\n",
              "      <td>Maine Medical Center</td>\n",
              "      <td>22 Bramhall St</td>\n",
              "      <td>Portland</td>\n",
              "      <td>ME</td>\n",
              "      <td>4102</td>\n",
              "      <td>0019 - Level I Excision/ Biopsy</td>\n",
              "      <td>ME - Portland</td>\n",
              "      <td>29</td>\n",
              "      <td>934.988276</td>\n",
              "      <td>375.214828</td>\n",
              "      <td>MAINE MEDICAL CENTER</td>\n",
              "      <td>22 BRAMHALL ST</td>\n",
              "      <td>PORTLAND</td>\n",
              "      <td>ME</td>\n",
              "      <td>4102.0</td>\n",
              "      <td>CUMBERLAND</td>\n",
              "      <td>(207) 662-0111</td>\n",
              "      <td>Acute Care Hospitals</td>\n",
              "      <td>Voluntary non-profit - Private</td>\n",
              "      <td>True</td>\n",
              "      <td>True</td>\n",
              "      <td>4</td>\n",
              "      <td>NaN</td>\n",
              "      <td>Below the national average</td>\n",
              "      <td>NaN</td>\n",
              "      <td>Above the national average</td>\n",
              "      <td>NaN</td>\n",
              "      <td>Above the national average</td>\n",
              "      <td>NaN</td>\n",
              "      <td>Above the national average</td>\n",
              "      <td>NaN</td>\n",
              "      <td>Same as the national average</td>\n",
              "      <td>NaN</td>\n",
              "      <td>Below the national average</td>\n",
              "      <td>NaN</td>\n",
              "      <td>Above the national average</td>\n",
              "      <td>NaN</td>\n",
              "      <td>POINT (-70.275104 43.652193)</td>\n",
              "    </tr>\n",
              "    <tr>\n",
              "      <th>14077</th>\n",
              "      <td>360109</td>\n",
              "      <td>Coshocton County Memorial Hospital</td>\n",
              "      <td>1460 Orange Street</td>\n",
              "      <td>Coshocton</td>\n",
              "      <td>OH</td>\n",
              "      <td>43812</td>\n",
              "      <td>0204 - Level I Nerve Injections</td>\n",
              "      <td>OH - Columbus</td>\n",
              "      <td>19</td>\n",
              "      <td>889.629474</td>\n",
              "      <td>200.810526</td>\n",
              "      <td>COSHOCTON REGIONAL MEDICAL CENTER</td>\n",
              "      <td>1460 ORANGE STREET</td>\n",
              "      <td>COSHOCTON</td>\n",
              "      <td>OH</td>\n",
              "      <td>43812.0</td>\n",
              "      <td>COSHOCTON</td>\n",
              "      <td>(740) 623-4144</td>\n",
              "      <td>Acute Care Hospitals</td>\n",
              "      <td>Voluntary non-profit - Private</td>\n",
              "      <td>True</td>\n",
              "      <td>True</td>\n",
              "      <td>3</td>\n",
              "      <td>NaN</td>\n",
              "      <td>Same as the national average</td>\n",
              "      <td>NaN</td>\n",
              "      <td>Not Available</td>\n",
              "      <td>5.0</td>\n",
              "      <td>Same as the national average</td>\n",
              "      <td>NaN</td>\n",
              "      <td>Below the national average</td>\n",
              "      <td>NaN</td>\n",
              "      <td>Same as the national average</td>\n",
              "      <td>NaN</td>\n",
              "      <td>Above the national average</td>\n",
              "      <td>NaN</td>\n",
              "      <td>Same as the national average</td>\n",
              "      <td>NaN</td>\n",
              "      <td>POINT (-81.847577 40.270442)</td>\n",
              "    </tr>\n",
              "    <tr>\n",
              "      <th>4214</th>\n",
              "      <td>340061</td>\n",
              "      <td>University Of North Carolina Hospital</td>\n",
              "      <td>101 Manning Drive</td>\n",
              "      <td>Chapel Hill</td>\n",
              "      <td>NC</td>\n",
              "      <td>27514</td>\n",
              "      <td>0265 - Level I Diagnostic and Screening Ultras...</td>\n",
              "      <td>NC - Durham</td>\n",
              "      <td>448</td>\n",
              "      <td>280.104911</td>\n",
              "      <td>84.789911</td>\n",
              "      <td>UNIVERSITY OF NORTH CAROLINA HOSPITAL</td>\n",
              "      <td>101 MANNING DRIVE</td>\n",
              "      <td>CHAPEL HILL</td>\n",
              "      <td>NC</td>\n",
              "      <td>27514.0</td>\n",
              "      <td>ORANGE</td>\n",
              "      <td>(919) 966-4141</td>\n",
              "      <td>Acute Care Hospitals</td>\n",
              "      <td>Government - State</td>\n",
              "      <td>True</td>\n",
              "      <td>True</td>\n",
              "      <td>3</td>\n",
              "      <td>NaN</td>\n",
              "      <td>Below the national average</td>\n",
              "      <td>NaN</td>\n",
              "      <td>Above the national average</td>\n",
              "      <td>NaN</td>\n",
              "      <td>Below the national average</td>\n",
              "      <td>NaN</td>\n",
              "      <td>Above the national average</td>\n",
              "      <td>NaN</td>\n",
              "      <td>Same as the national average</td>\n",
              "      <td>NaN</td>\n",
              "      <td>Below the national average</td>\n",
              "      <td>NaN</td>\n",
              "      <td>Above the national average</td>\n",
              "      <td>NaN</td>\n",
              "      <td>POINT (-79.051894 35.903551)</td>\n",
              "    </tr>\n",
              "    <tr>\n",
              "      <th>1336</th>\n",
              "      <td>280013</td>\n",
              "      <td>The Nebraska Medical Center Dba Nebraska Medicine</td>\n",
              "      <td>987400 Nebraska Medical Center</td>\n",
              "      <td>Omaha</td>\n",
              "      <td>NE</td>\n",
              "      <td>68198</td>\n",
              "      <td>0207 - Level III Nerve Injections</td>\n",
              "      <td>NE - Omaha</td>\n",
              "      <td>517</td>\n",
              "      <td>1427.328898</td>\n",
              "      <td>576.865010</td>\n",
              "      <td>THE NEBRASKA MEDICAL CENTER</td>\n",
              "      <td>987400 NEBRASKA MEDICAL CENTER</td>\n",
              "      <td>OMAHA</td>\n",
              "      <td>NE</td>\n",
              "      <td>68198.0</td>\n",
              "      <td>DOUGLAS</td>\n",
              "      <td>(402) 552-2040</td>\n",
              "      <td>Acute Care Hospitals</td>\n",
              "      <td>Voluntary non-profit - Private</td>\n",
              "      <td>True</td>\n",
              "      <td>True</td>\n",
              "      <td>4</td>\n",
              "      <td>NaN</td>\n",
              "      <td>Same as the national average</td>\n",
              "      <td>NaN</td>\n",
              "      <td>Above the national average</td>\n",
              "      <td>NaN</td>\n",
              "      <td>Same as the national average</td>\n",
              "      <td>NaN</td>\n",
              "      <td>Above the national average</td>\n",
              "      <td>NaN</td>\n",
              "      <td>Same as the national average</td>\n",
              "      <td>NaN</td>\n",
              "      <td>Same as the national average</td>\n",
              "      <td>NaN</td>\n",
              "      <td>Above the national average</td>\n",
              "      <td>NaN</td>\n",
              "      <td>NaN</td>\n",
              "    </tr>\n",
              "    <tr>\n",
              "      <th>13407</th>\n",
              "      <td>260141</td>\n",
              "      <td>University Of Missouri Health Care</td>\n",
              "      <td>One Hospital Drive</td>\n",
              "      <td>Columbia</td>\n",
              "      <td>MO</td>\n",
              "      <td>65212</td>\n",
              "      <td>0074 - Level IV Endoscopy Upper Airway</td>\n",
              "      <td>MO - Columbia</td>\n",
              "      <td>22</td>\n",
              "      <td>7961.870909</td>\n",
              "      <td>1723.340000</td>\n",
              "      <td>UNIVERSITY OF MISSOURI HEALTH CARE</td>\n",
              "      <td>ONE HOSPITAL DRIVE</td>\n",
              "      <td>COLUMBIA</td>\n",
              "      <td>MO</td>\n",
              "      <td>65212.0</td>\n",
              "      <td>BOONE</td>\n",
              "      <td>(573) 882-4141</td>\n",
              "      <td>Acute Care Hospitals</td>\n",
              "      <td>Government - State</td>\n",
              "      <td>True</td>\n",
              "      <td>True</td>\n",
              "      <td>2</td>\n",
              "      <td>NaN</td>\n",
              "      <td>Below the national average</td>\n",
              "      <td>NaN</td>\n",
              "      <td>Below the national average</td>\n",
              "      <td>NaN</td>\n",
              "      <td>Below the national average</td>\n",
              "      <td>NaN</td>\n",
              "      <td>Above the national average</td>\n",
              "      <td>NaN</td>\n",
              "      <td>Above the national average</td>\n",
              "      <td>NaN</td>\n",
              "      <td>Same as the national average</td>\n",
              "      <td>NaN</td>\n",
              "      <td>Same as the national average</td>\n",
              "      <td>NaN</td>\n",
              "      <td>NaN</td>\n",
              "    </tr>\n",
              "    <tr>\n",
              "      <th>20195</th>\n",
              "      <td>520051</td>\n",
              "      <td>Columbia St Marys Hospital Milwaukee</td>\n",
              "      <td>2323 N Lake Dr</td>\n",
              "      <td>Milwaukee</td>\n",
              "      <td>WI</td>\n",
              "      <td>53211</td>\n",
              "      <td>0265 - Level I Diagnostic and Screening Ultras...</td>\n",
              "      <td>WI - Milwaukee</td>\n",
              "      <td>351</td>\n",
              "      <td>631.452507</td>\n",
              "      <td>87.292023</td>\n",
              "      <td>ASCENSION COLUMBIA ST MARY'S HOSPITAL MILWAUKEE</td>\n",
              "      <td>2323 N LAKE DR</td>\n",
              "      <td>MILWAUKEE</td>\n",
              "      <td>WI</td>\n",
              "      <td>53211.0</td>\n",
              "      <td>MILWAUKEE</td>\n",
              "      <td>(414) 585-1374</td>\n",
              "      <td>Acute Care Hospitals</td>\n",
              "      <td>Voluntary non-profit - Church</td>\n",
              "      <td>True</td>\n",
              "      <td>True</td>\n",
              "      <td>3</td>\n",
              "      <td>NaN</td>\n",
              "      <td>Same as the national average</td>\n",
              "      <td>NaN</td>\n",
              "      <td>Below the national average</td>\n",
              "      <td>NaN</td>\n",
              "      <td>Above the national average</td>\n",
              "      <td>NaN</td>\n",
              "      <td>Below the national average</td>\n",
              "      <td>NaN</td>\n",
              "      <td>Same as the national average</td>\n",
              "      <td>NaN</td>\n",
              "      <td>Same as the national average</td>\n",
              "      <td>NaN</td>\n",
              "      <td>Same as the national average</td>\n",
              "      <td>NaN</td>\n",
              "      <td>POINT (-87.879139 43.061411)</td>\n",
              "    </tr>\n",
              "    <tr>\n",
              "      <th>14108</th>\n",
              "      <td>360147</td>\n",
              "      <td>Marietta Memorial Hospital</td>\n",
              "      <td>401 Matthew Street</td>\n",
              "      <td>Marietta</td>\n",
              "      <td>OH</td>\n",
              "      <td>45750</td>\n",
              "      <td>0206 - Level II Nerve Injections</td>\n",
              "      <td>OH - Columbus</td>\n",
              "      <td>128</td>\n",
              "      <td>1285.431016</td>\n",
              "      <td>378.949375</td>\n",
              "      <td>MARIETTA MEMORIAL HOSPITAL</td>\n",
              "      <td>401 MATTHEW STREET</td>\n",
              "      <td>MARIETTA</td>\n",
              "      <td>OH</td>\n",
              "      <td>45750.0</td>\n",
              "      <td>WASHINGTON</td>\n",
              "      <td>(740) 374-1411</td>\n",
              "      <td>Acute Care Hospitals</td>\n",
              "      <td>Voluntary non-profit - Other</td>\n",
              "      <td>True</td>\n",
              "      <td>True</td>\n",
              "      <td>2</td>\n",
              "      <td>NaN</td>\n",
              "      <td>Below the national average</td>\n",
              "      <td>NaN</td>\n",
              "      <td>Above the national average</td>\n",
              "      <td>NaN</td>\n",
              "      <td>Below the national average</td>\n",
              "      <td>NaN</td>\n",
              "      <td>Same as the national average</td>\n",
              "      <td>NaN</td>\n",
              "      <td>Same as the national average</td>\n",
              "      <td>NaN</td>\n",
              "      <td>Same as the national average</td>\n",
              "      <td>NaN</td>\n",
              "      <td>Same as the national average</td>\n",
              "      <td>NaN</td>\n",
              "      <td>POINT (-81.464717 39.431621)</td>\n",
              "    </tr>\n",
              "  </tbody>\n",
              "</table>\n",
              "</div>"
            ],
            "text/plain": [
              "      provider_id  ...                       location\n",
              "17565      340017  ...   POINT (-82.468153 35.320814)\n",
              "12449      120028  ...                            NaN\n",
              "19644      440144  ...   POINT (-86.230533 35.382921)\n",
              "4408       310041  ...    POINT (-74.21449 39.965083)\n",
              "12620      140288  ...    POINT (-88.01022 41.819137)\n",
              "22109      150177  ...   POINT (-86.176781 41.700723)\n",
              "1846       380051  ...  POINT (-123.033146 44.932887)\n",
              "11815      520116  ...   POINT (-88.699014 43.199903)\n",
              "12824      200009  ...   POINT (-70.275104 43.652193)\n",
              "14077      360109  ...   POINT (-81.847577 40.270442)\n",
              "4214       340061  ...   POINT (-79.051894 35.903551)\n",
              "1336       280013  ...                            NaN\n",
              "13407      260141  ...                            NaN\n",
              "20195      520051  ...   POINT (-87.879139 43.061411)\n",
              "14108      360147  ...   POINT (-81.464717 39.431621)\n",
              "\n",
              "[15 rows x 39 columns]"
            ]
          },
          "metadata": {},
          "execution_count": 111
        }
      ]
    },
    {
      "cell_type": "code",
      "source": [
        "print('dfOut: ', len(df_Outpatient))\n",
        "print('dfHos: ', len(df_Hospital))"
      ],
      "metadata": {
        "colab": {
          "base_uri": "https://localhost:8080/"
        },
        "id": "IZ5xSQQqktBW",
        "outputId": "360d82e9-8272-4f8b-beae-43aa963495e2"
      },
      "execution_count": null,
      "outputs": [
        {
          "output_type": "stream",
          "name": "stdout",
          "text": [
            "dfOut:  32532\n",
            "dfHos:  5314\n"
          ]
        }
      ]
    },
    {
      "cell_type": "code",
      "source": [
        ""
      ],
      "metadata": {
        "id": "WFjJFYKOkXw1"
      },
      "execution_count": null,
      "outputs": []
    },
    {
      "cell_type": "code",
      "source": [
        "final_df_comparison = pd.concat([df_merged_clean_SCH, df_merged_clean_SB])\n",
        "final_df_comparison.sample(10)\n",
        "final_df_comparison.pivot(index=['hospital_name'], columns='apc', values='average_total_payments')"
      ],
      "metadata": {
        "colab": {
          "base_uri": "https://localhost:8080/",
          "height": 271
        },
        "id": "Bk4_36fulkmP",
        "outputId": "85e6f19f-0f78-4007-c734-5dcb65e15847"
      },
      "execution_count": null,
      "outputs": [
        {
          "output_type": "execute_result",
          "data": {
            "text/html": [
              "<div>\n",
              "<style scoped>\n",
              "    .dataframe tbody tr th:only-of-type {\n",
              "        vertical-align: middle;\n",
              "    }\n",
              "\n",
              "    .dataframe tbody tr th {\n",
              "        vertical-align: top;\n",
              "    }\n",
              "\n",
              "    .dataframe thead th {\n",
              "        text-align: right;\n",
              "    }\n",
              "</style>\n",
              "<table border=\"1\" class=\"dataframe\">\n",
              "  <thead>\n",
              "    <tr style=\"text-align: right;\">\n",
              "      <th>apc</th>\n",
              "      <th>0020 - Level II Excision/ Biopsy</th>\n",
              "      <th>0074 - Level IV Endoscopy Upper Airway</th>\n",
              "      <th>0203 - Level IV Nerve Injections</th>\n",
              "      <th>0204 - Level I Nerve Injections</th>\n",
              "      <th>0207 - Level III Nerve Injections</th>\n",
              "      <th>0265 - Level I Diagnostic and Screening Ultrasound</th>\n",
              "      <th>0267 - Level III Diagnostic and Screening Ultrasound</th>\n",
              "      <th>0269 - Level I Echocardiogram Without Contrast</th>\n",
              "      <th>0270 - Level II Echocardiogram Without Contrast</th>\n",
              "      <th>0369 - Level II Pulmonary Tests</th>\n",
              "      <th>0377 - Level II Cardiac Imaging</th>\n",
              "      <th>0634 - Hospital Clinic Visits</th>\n",
              "      <th>0690 - Level I Electronic Analysis of Devices</th>\n",
              "    </tr>\n",
              "    <tr>\n",
              "      <th>hospital_name</th>\n",
              "      <th></th>\n",
              "      <th></th>\n",
              "      <th></th>\n",
              "      <th></th>\n",
              "      <th></th>\n",
              "      <th></th>\n",
              "      <th></th>\n",
              "      <th></th>\n",
              "      <th></th>\n",
              "      <th></th>\n",
              "      <th></th>\n",
              "      <th></th>\n",
              "      <th></th>\n",
              "    </tr>\n",
              "  </thead>\n",
              "  <tbody>\n",
              "    <tr>\n",
              "      <th>SUNY/STONY BROOK UNIVERSITY HOSPITAL</th>\n",
              "      <td>948.683</td>\n",
              "      <td>2307.21</td>\n",
              "      <td>1325.641429</td>\n",
              "      <td>232.33825</td>\n",
              "      <td>697.655149</td>\n",
              "      <td>103.004928</td>\n",
              "      <td>211.974291</td>\n",
              "      <td>478.893941</td>\n",
              "      <td>629.345854</td>\n",
              "      <td>271.883099</td>\n",
              "      <td>1300.672967</td>\n",
              "      <td>110.068035</td>\n",
              "      <td>38.450476</td>\n",
              "    </tr>\n",
              "  </tbody>\n",
              "</table>\n",
              "</div>"
            ],
            "text/plain": [
              "apc                                   0020 - Level II Excision/ Biopsy  ...  0690 - Level I Electronic Analysis of Devices\n",
              "hospital_name                                                           ...                                               \n",
              "SUNY/STONY BROOK UNIVERSITY HOSPITAL                           948.683  ...                                      38.450476\n",
              "\n",
              "[1 rows x 13 columns]"
            ]
          },
          "metadata": {},
          "execution_count": 117
        }
      ]
    },
    {
      "cell_type": "code",
      "source": [
        "average_total_payments = pd.value_counts(final_df_comparison['hospital_name'])\n",
        "average_total_payments = pd.DataFrame(average_total_payments)\n",
        "average_total_payments = average_total_payments.reset_index()\n",
        "average_total_payments.columns = ['hospital_name', 'average_total_payments']"
      ],
      "metadata": {
        "id": "UBAy75UQkYSQ"
      },
      "execution_count": null,
      "outputs": []
    },
    {
      "cell_type": "code",
      "source": [
        "dims = (8, 10)\n",
        "fig, ax = plt.subplots(figsize=dims)\n",
        "\n",
        "ax=sns.barplot(y=index,x=values,palette='GnBu_d')\n",
        "ax.set(xlabel='Total number of Acute Care hospitals with 1 rating', ylabel='states')"
      ],
      "metadata": {
        "colab": {
          "base_uri": "https://localhost:8080/"
        },
        "id": "E-7SAVb2luLQ",
        "outputId": "0c86c115-0dbf-4ca1-c426-9359e1c56138"
      },
      "execution_count": null,
      "outputs": [
        {
          "output_type": "execute_result",
          "data": {
            "text/plain": [
              "[Text(0, 0.5, 'states'),\n",
              " Text(0.5, 0, 'Total number of Acute Care hospitals with 1 rating')]"
            ]
          },
          "metadata": {},
          "execution_count": 133
        }
      ]
    },
    {
      "cell_type": "code",
      "source": [
        "S_A_1=State_acute_1['state'].value_counts()\n",
        "index=S_A_1.index\n",
        "values=S_A_1.values\n",
        "values"
      ],
      "metadata": {
        "colab": {
          "base_uri": "https://localhost:8080/"
        },
        "id": "1JIxN5Ubl8-X",
        "outputId": "8ad1b5d2-80ce-48c3-f41c-867d76c4dcf1"
      },
      "execution_count": null,
      "outputs": [
        {
          "output_type": "execute_result",
          "data": {
            "text/plain": [
              "array([46, 27, 24, 11, 10,  9,  8,  8,  7,  6,  6,  5,  5,  5,  4,  4,  4,\n",
              "        4,  4,  3,  3,  3,  2,  2,  2,  2,  2,  1,  1,  1,  1,  1,  1])"
            ]
          },
          "metadata": {},
          "execution_count": 124
        }
      ]
    },
    {
      "cell_type": "code",
      "source": [
        "State_acute_1=df_Hospital.loc[(df_Hospital[\"hospital_type\"]==\"Acute Care Hospitals\") & (df_Hospital[\"hospital_overall_rating\"]==\"1\"),[\"state\"]]\n",
        "State_acute_1.head()"
      ],
      "metadata": {
        "colab": {
          "base_uri": "https://localhost:8080/",
          "height": 206
        },
        "id": "_AdYGocYmA-v",
        "outputId": "1fc83ede-b5a7-4e39-c6fd-3fbd3daa2019"
      },
      "execution_count": null,
      "outputs": [
        {
          "output_type": "execute_result",
          "data": {
            "text/html": [
              "<div>\n",
              "<style scoped>\n",
              "    .dataframe tbody tr th:only-of-type {\n",
              "        vertical-align: middle;\n",
              "    }\n",
              "\n",
              "    .dataframe tbody tr th {\n",
              "        vertical-align: top;\n",
              "    }\n",
              "\n",
              "    .dataframe thead th {\n",
              "        text-align: right;\n",
              "    }\n",
              "</style>\n",
              "<table border=\"1\" class=\"dataframe\">\n",
              "  <thead>\n",
              "    <tr style=\"text-align: right;\">\n",
              "      <th></th>\n",
              "      <th>state</th>\n",
              "    </tr>\n",
              "  </thead>\n",
              "  <tbody>\n",
              "    <tr>\n",
              "      <th>0</th>\n",
              "      <td>NJ</td>\n",
              "    </tr>\n",
              "    <tr>\n",
              "      <th>1</th>\n",
              "      <td>NJ</td>\n",
              "    </tr>\n",
              "    <tr>\n",
              "      <th>2</th>\n",
              "      <td>PA</td>\n",
              "    </tr>\n",
              "    <tr>\n",
              "      <th>3</th>\n",
              "      <td>TN</td>\n",
              "    </tr>\n",
              "    <tr>\n",
              "      <th>4</th>\n",
              "      <td>NY</td>\n",
              "    </tr>\n",
              "  </tbody>\n",
              "</table>\n",
              "</div>"
            ],
            "text/plain": [
              "  state\n",
              "0    NJ\n",
              "1    NJ\n",
              "2    PA\n",
              "3    TN\n",
              "4    NY"
            ]
          },
          "metadata": {},
          "execution_count": 123
        }
      ]
    },
    {
      "cell_type": "code",
      "source": [
        "df_merged_clean_SB = df_merged_clean[df_merged_clean['hospital_name'] == 'SUNY/STONY BROOK UNIVERSITY HOSPITAL']\n",
        "df_merged_clean_SB\n",
        "df_merged = df_Outpatient.merge(df_Hospital, how='left', left_on='provider_id', right_on='provider_id')\n",
        "df_merged_clean_SCH = df_merged_clean[df_merged_clean['hospital_name'] == 'ST CHARLES HOSPITALS']\n",
        "df_merged_clean_SCH"
      ],
      "metadata": {
        "colab": {
          "base_uri": "https://localhost:8080/",
          "height": 69
        },
        "id": "ppnP2YLhkYyj",
        "outputId": "a360cf14-9994-4b2b-c26f-2f57156b9585"
      },
      "execution_count": null,
      "outputs": [
        {
          "output_type": "execute_result",
          "data": {
            "text/html": [
              "<div>\n",
              "<style scoped>\n",
              "    .dataframe tbody tr th:only-of-type {\n",
              "        vertical-align: middle;\n",
              "    }\n",
              "\n",
              "    .dataframe tbody tr th {\n",
              "        vertical-align: top;\n",
              "    }\n",
              "\n",
              "    .dataframe thead th {\n",
              "        text-align: right;\n",
              "    }\n",
              "</style>\n",
              "<table border=\"1\" class=\"dataframe\">\n",
              "  <thead>\n",
              "    <tr style=\"text-align: right;\">\n",
              "      <th></th>\n",
              "      <th>provider_id</th>\n",
              "      <th>provider_name</th>\n",
              "      <th>provider_street_address</th>\n",
              "      <th>provider_city</th>\n",
              "      <th>provider_state</th>\n",
              "      <th>provider_zipcode</th>\n",
              "      <th>apc</th>\n",
              "      <th>hospital_referral_region</th>\n",
              "      <th>outpatient_services</th>\n",
              "      <th>average_estimated_submitted_charges</th>\n",
              "      <th>average_total_payments</th>\n",
              "      <th>hospital_name</th>\n",
              "      <th>address</th>\n",
              "      <th>city</th>\n",
              "      <th>state</th>\n",
              "      <th>zip_code</th>\n",
              "      <th>county_name</th>\n",
              "      <th>phone_number</th>\n",
              "      <th>hospital_type</th>\n",
              "      <th>hospital_ownership</th>\n",
              "      <th>emergency_services</th>\n",
              "      <th>meets_criteria_for_meaningful_use_of_ehrs</th>\n",
              "      <th>hospital_overall_rating</th>\n",
              "      <th>hospital_overall_rating_footnote</th>\n",
              "      <th>mortality_national_comparison</th>\n",
              "      <th>mortality_national_comparison_footnote</th>\n",
              "      <th>safety_of_care_national_comparison</th>\n",
              "      <th>safety_of_care_national_comparison_footnote</th>\n",
              "      <th>readmission_national_comparison</th>\n",
              "      <th>readmission_national_comparison_footnote</th>\n",
              "      <th>patient_experience_national_comparison</th>\n",
              "      <th>patient_experience_national_comparison_footnote</th>\n",
              "      <th>effectiveness_of_care_national_comparison</th>\n",
              "      <th>effectiveness_of_care_national_comparison_footnote</th>\n",
              "      <th>timeliness_of_care_national_comparison</th>\n",
              "      <th>timeliness_of_care_national_comparison_footnote</th>\n",
              "      <th>efficient_use_of_medical_imaging_national_comparison</th>\n",
              "      <th>efficient_use_of_medical_imaging_national_comparison_footnote</th>\n",
              "      <th>location</th>\n",
              "    </tr>\n",
              "  </thead>\n",
              "  <tbody>\n",
              "  </tbody>\n",
              "</table>\n",
              "</div>"
            ],
            "text/plain": [
              "Empty DataFrame\n",
              "Columns: [provider_id, provider_name, provider_street_address, provider_city, provider_state, provider_zipcode, apc, hospital_referral_region, outpatient_services, average_estimated_submitted_charges, average_total_payments, hospital_name, address, city, state, zip_code, county_name, phone_number, hospital_type, hospital_ownership, emergency_services, meets_criteria_for_meaningful_use_of_ehrs, hospital_overall_rating, hospital_overall_rating_footnote, mortality_national_comparison, mortality_national_comparison_footnote, safety_of_care_national_comparison, safety_of_care_national_comparison_footnote, readmission_national_comparison, readmission_national_comparison_footnote, patient_experience_national_comparison, patient_experience_national_comparison_footnote, effectiveness_of_care_national_comparison, effectiveness_of_care_national_comparison_footnote, timeliness_of_care_national_comparison, timeliness_of_care_national_comparison_footnote, efficient_use_of_medical_imaging_national_comparison, efficient_use_of_medical_imaging_national_comparison_footnote, location]\n",
              "Index: []"
            ]
          },
          "metadata": {},
          "execution_count": 114
        }
      ]
    },
    {
      "cell_type": "code",
      "source": [
        ""
      ],
      "metadata": {
        "id": "biFiMUCYjhzs"
      },
      "execution_count": null,
      "outputs": []
    }
  ]
}